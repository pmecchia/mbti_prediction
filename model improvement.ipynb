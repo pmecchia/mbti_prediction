{
 "cells": [
  {
   "cell_type": "markdown",
   "metadata": {},
   "source": [
    "## **Libraries**"
   ]
  },
  {
   "cell_type": "code",
   "execution_count": 7,
   "metadata": {},
   "outputs": [],
   "source": [
    "import pandas as pd\n",
    "import matplotlib.pyplot as plt\n",
    "import re\n",
    "import nltk\n",
    "import numpy as np\n",
    "import joblib\n",
    "\n",
    "from nltk import word_tokenize\n",
    "from nltk.corpus import stopwords\n",
    "from nltk.stem import PorterStemmer\n",
    "\n",
    "\n",
    "from sklearn.pipeline import Pipeline\n",
    "from sklearn.model_selection import train_test_split\n",
    "from sklearn.feature_extraction.text import CountVectorizer\n",
    "from sklearn.feature_extraction.text import TfidfVectorizer\n",
    "from sklearn.naive_bayes import MultinomialNB\n",
    "from sklearn import metrics\n",
    "from sklearn.svm import LinearSVC\n",
    "from sklearn.ensemble import RandomForestClassifier\n",
    "from sklearn.linear_model import LogisticRegression\n",
    "from sklearn.naive_bayes import GaussianNB\n"
   ]
  },
  {
   "cell_type": "markdown",
   "metadata": {},
   "source": [
    "## **Import Dataset**"
   ]
  },
  {
   "cell_type": "code",
   "execution_count": 8,
   "metadata": {},
   "outputs": [],
   "source": [
    "df_import=pd.read_csv(\"mbti_dataset.csv\")"
   ]
  },
  {
   "cell_type": "code",
   "execution_count": 9,
   "metadata": {},
   "outputs": [
    {
     "data": {
      "text/html": [
       "<div>\n",
       "<style scoped>\n",
       "    .dataframe tbody tr th:only-of-type {\n",
       "        vertical-align: middle;\n",
       "    }\n",
       "\n",
       "    .dataframe tbody tr th {\n",
       "        vertical-align: top;\n",
       "    }\n",
       "\n",
       "    .dataframe thead th {\n",
       "        text-align: right;\n",
       "    }\n",
       "</style>\n",
       "<table border=\"1\" class=\"dataframe\">\n",
       "  <thead>\n",
       "    <tr style=\"text-align: right;\">\n",
       "      <th></th>\n",
       "      <th>type</th>\n",
       "      <th>posts</th>\n",
       "    </tr>\n",
       "  </thead>\n",
       "  <tbody>\n",
       "    <tr>\n",
       "      <th>0</th>\n",
       "      <td>INFJ</td>\n",
       "      <td>'http://www.youtube.com/watch?v=qsXHcwe3krw|||...</td>\n",
       "    </tr>\n",
       "    <tr>\n",
       "      <th>1</th>\n",
       "      <td>ENTP</td>\n",
       "      <td>'I'm finding the lack of me in these posts ver...</td>\n",
       "    </tr>\n",
       "    <tr>\n",
       "      <th>2</th>\n",
       "      <td>INTP</td>\n",
       "      <td>'Good one  _____   https://www.youtube.com/wat...</td>\n",
       "    </tr>\n",
       "    <tr>\n",
       "      <th>3</th>\n",
       "      <td>INTJ</td>\n",
       "      <td>'Dear INTP,   I enjoyed our conversation the o...</td>\n",
       "    </tr>\n",
       "    <tr>\n",
       "      <th>4</th>\n",
       "      <td>ENTJ</td>\n",
       "      <td>'You're fired.|||That's another silly misconce...</td>\n",
       "    </tr>\n",
       "  </tbody>\n",
       "</table>\n",
       "</div>"
      ],
      "text/plain": [
       "   type                                              posts\n",
       "0  INFJ  'http://www.youtube.com/watch?v=qsXHcwe3krw|||...\n",
       "1  ENTP  'I'm finding the lack of me in these posts ver...\n",
       "2  INTP  'Good one  _____   https://www.youtube.com/wat...\n",
       "3  INTJ  'Dear INTP,   I enjoyed our conversation the o...\n",
       "4  ENTJ  'You're fired.|||That's another silly misconce..."
      ]
     },
     "execution_count": 9,
     "metadata": {},
     "output_type": "execute_result"
    }
   ],
   "source": [
    "df_import.head()"
   ]
  },
  {
   "cell_type": "markdown",
   "metadata": {},
   "source": [
    "## **Preprocessing data**"
   ]
  },
  {
   "cell_type": "code",
   "execution_count": 10,
   "metadata": {},
   "outputs": [],
   "source": [
    "def split_posts(types,post):\n",
    "    df = pd.DataFrame(columns = ['type','posts'])\n",
    "    x = post.split(\"|||\")\n",
    "    posts_div=[]\n",
    "    string=\"\"\n",
    "    for ind,val in enumerate(x):\n",
    "        string = string + \" \"+ val\n",
    "        if (ind+1)%25 == 0:\n",
    "            posts_div.append(string)\n",
    "            string=\"\"\n",
    "    for post in posts_div:\n",
    "        new_row={'type':types,'posts':post}\n",
    "        df=df.append(new_row,ignore_index=True)\n",
    "    return df  \n",
    "            \n",
    "            "
   ]
  },
  {
   "cell_type": "code",
   "execution_count": 11,
   "metadata": {},
   "outputs": [
    {
     "name": "stdout",
     "output_type": "stream",
     "text": [
      "CPU times: user 1min 5s, sys: 300 ms, total: 1min 5s\n",
      "Wall time: 1min 5s\n"
     ]
    },
    {
     "data": {
      "text/html": [
       "<div>\n",
       "<style scoped>\n",
       "    .dataframe tbody tr th:only-of-type {\n",
       "        vertical-align: middle;\n",
       "    }\n",
       "\n",
       "    .dataframe tbody tr th {\n",
       "        vertical-align: top;\n",
       "    }\n",
       "\n",
       "    .dataframe thead th {\n",
       "        text-align: right;\n",
       "    }\n",
       "</style>\n",
       "<table border=\"1\" class=\"dataframe\">\n",
       "  <thead>\n",
       "    <tr style=\"text-align: right;\">\n",
       "      <th></th>\n",
       "      <th>type</th>\n",
       "      <th>posts</th>\n",
       "    </tr>\n",
       "  </thead>\n",
       "  <tbody>\n",
       "    <tr>\n",
       "      <th>0</th>\n",
       "      <td>INFJ</td>\n",
       "      <td>'http://www.youtube.com/watch?v=qsXHcwe3krw h...</td>\n",
       "    </tr>\n",
       "    <tr>\n",
       "      <th>1</th>\n",
       "      <td>INFJ</td>\n",
       "      <td>Get high in backyard, roast and eat marshmell...</td>\n",
       "    </tr>\n",
       "    <tr>\n",
       "      <th>2</th>\n",
       "      <td>ENTP</td>\n",
       "      <td>'I'm finding the lack of me in these posts ve...</td>\n",
       "    </tr>\n",
       "    <tr>\n",
       "      <th>3</th>\n",
       "      <td>ENTP</td>\n",
       "      <td>Sounds pretty much like my area and what I'm ...</td>\n",
       "    </tr>\n",
       "    <tr>\n",
       "      <th>4</th>\n",
       "      <td>INTP</td>\n",
       "      <td>'Good one  _____   https://www.youtube.com/wa...</td>\n",
       "    </tr>\n",
       "  </tbody>\n",
       "</table>\n",
       "</div>"
      ],
      "text/plain": [
       "   type                                              posts\n",
       "0  INFJ   'http://www.youtube.com/watch?v=qsXHcwe3krw h...\n",
       "1  INFJ   Get high in backyard, roast and eat marshmell...\n",
       "2  ENTP   'I'm finding the lack of me in these posts ve...\n",
       "3  ENTP   Sounds pretty much like my area and what I'm ...\n",
       "4  INTP   'Good one  _____   https://www.youtube.com/wa..."
      ]
     },
     "execution_count": 11,
     "metadata": {},
     "output_type": "execute_result"
    }
   ],
   "source": [
    "%%time\n",
    "df = pd.DataFrame(columns = ['type','posts'])\n",
    "for i in range(len(df_import)):\n",
    "    df_tmp = split_posts(df_import.loc[i,\"type\"],df_import.loc[i,\"posts\"])\n",
    "    df=df.append(df_tmp,ignore_index=True)\n",
    "\n",
    "df.head()"
   ]
  },
  {
   "cell_type": "code",
   "execution_count": null,
   "metadata": {},
   "outputs": [],
   "source": []
  },
  {
   "cell_type": "code",
   "execution_count": 12,
   "metadata": {},
   "outputs": [
    {
     "name": "stdout",
     "output_type": "stream",
     "text": [
      "(8675, 2)\n",
      "(16251, 2)\n"
     ]
    }
   ],
   "source": [
    "print(df_import.shape)\n",
    "print(df.shape)"
   ]
  },
  {
   "cell_type": "code",
   "execution_count": 13,
   "metadata": {},
   "outputs": [],
   "source": [
    "df[\"target_EI\"]=df[\"type\"].apply(lambda row: row[0])\n",
    "df[\"target_NS\"]=df[\"type\"].apply(lambda row: row[1])\n",
    "df[\"target_TF\"]=df[\"type\"].apply(lambda row: row[2])\n",
    "df[\"target_PJ\"]=df[\"type\"].apply(lambda row: row[3])"
   ]
  },
  {
   "cell_type": "code",
   "execution_count": 14,
   "metadata": {},
   "outputs": [
    {
     "data": {
      "text/html": [
       "<div>\n",
       "<style scoped>\n",
       "    .dataframe tbody tr th:only-of-type {\n",
       "        vertical-align: middle;\n",
       "    }\n",
       "\n",
       "    .dataframe tbody tr th {\n",
       "        vertical-align: top;\n",
       "    }\n",
       "\n",
       "    .dataframe thead th {\n",
       "        text-align: right;\n",
       "    }\n",
       "</style>\n",
       "<table border=\"1\" class=\"dataframe\">\n",
       "  <thead>\n",
       "    <tr style=\"text-align: right;\">\n",
       "      <th></th>\n",
       "      <th>type</th>\n",
       "      <th>posts</th>\n",
       "      <th>target_EI</th>\n",
       "      <th>target_NS</th>\n",
       "      <th>target_TF</th>\n",
       "      <th>target_PJ</th>\n",
       "    </tr>\n",
       "  </thead>\n",
       "  <tbody>\n",
       "    <tr>\n",
       "      <th>0</th>\n",
       "      <td>INFJ</td>\n",
       "      <td>'http://www.youtube.com/watch?v=qsXHcwe3krw h...</td>\n",
       "      <td>I</td>\n",
       "      <td>N</td>\n",
       "      <td>F</td>\n",
       "      <td>J</td>\n",
       "    </tr>\n",
       "    <tr>\n",
       "      <th>1</th>\n",
       "      <td>INFJ</td>\n",
       "      <td>Get high in backyard, roast and eat marshmell...</td>\n",
       "      <td>I</td>\n",
       "      <td>N</td>\n",
       "      <td>F</td>\n",
       "      <td>J</td>\n",
       "    </tr>\n",
       "    <tr>\n",
       "      <th>2</th>\n",
       "      <td>ENTP</td>\n",
       "      <td>'I'm finding the lack of me in these posts ve...</td>\n",
       "      <td>E</td>\n",
       "      <td>N</td>\n",
       "      <td>T</td>\n",
       "      <td>P</td>\n",
       "    </tr>\n",
       "    <tr>\n",
       "      <th>3</th>\n",
       "      <td>ENTP</td>\n",
       "      <td>Sounds pretty much like my area and what I'm ...</td>\n",
       "      <td>E</td>\n",
       "      <td>N</td>\n",
       "      <td>T</td>\n",
       "      <td>P</td>\n",
       "    </tr>\n",
       "    <tr>\n",
       "      <th>4</th>\n",
       "      <td>INTP</td>\n",
       "      <td>'Good one  _____   https://www.youtube.com/wa...</td>\n",
       "      <td>I</td>\n",
       "      <td>N</td>\n",
       "      <td>T</td>\n",
       "      <td>P</td>\n",
       "    </tr>\n",
       "  </tbody>\n",
       "</table>\n",
       "</div>"
      ],
      "text/plain": [
       "   type                                              posts target_EI  \\\n",
       "0  INFJ   'http://www.youtube.com/watch?v=qsXHcwe3krw h...         I   \n",
       "1  INFJ   Get high in backyard, roast and eat marshmell...         I   \n",
       "2  ENTP   'I'm finding the lack of me in these posts ve...         E   \n",
       "3  ENTP   Sounds pretty much like my area and what I'm ...         E   \n",
       "4  INTP   'Good one  _____   https://www.youtube.com/wa...         I   \n",
       "\n",
       "  target_NS target_TF target_PJ  \n",
       "0         N         F         J  \n",
       "1         N         F         J  \n",
       "2         N         T         P  \n",
       "3         N         T         P  \n",
       "4         N         T         P  "
      ]
     },
     "execution_count": 14,
     "metadata": {},
     "output_type": "execute_result"
    }
   ],
   "source": [
    "df.head()"
   ]
  },
  {
   "cell_type": "code",
   "execution_count": 15,
   "metadata": {},
   "outputs": [],
   "source": [
    "y1=[]\n",
    "y2=[]\n",
    "barWidth = 0.4\n",
    "r1 = range(len(y1))\n",
    "r2 = [x + barWidth for x in r1]"
   ]
  },
  {
   "cell_type": "code",
   "execution_count": 16,
   "metadata": {},
   "outputs": [],
   "source": [
    "y1.append(df[\"target_EI\"].value_counts()[0])\n",
    "y2.append(df[\"target_EI\"].value_counts()[1])"
   ]
  },
  {
   "cell_type": "code",
   "execution_count": 17,
   "metadata": {},
   "outputs": [],
   "source": [
    "y1.append(df[\"target_NS\"].value_counts()[0])\n",
    "y2.append(df[\"target_NS\"].value_counts()[1])"
   ]
  },
  {
   "cell_type": "code",
   "execution_count": 18,
   "metadata": {},
   "outputs": [],
   "source": [
    "y1.append(df[\"target_TF\"].value_counts()[0])\n",
    "y2.append(df[\"target_TF\"].value_counts()[1])"
   ]
  },
  {
   "cell_type": "code",
   "execution_count": 19,
   "metadata": {},
   "outputs": [],
   "source": [
    "y1.append(df[\"target_PJ\"].value_counts()[0])\n",
    "y2.append(df[\"target_PJ\"].value_counts()[1])"
   ]
  },
  {
   "cell_type": "code",
   "execution_count": 20,
   "metadata": {},
   "outputs": [
    {
     "data": {
      "text/plain": [
       "Text(0.5, 1.0, 'Category P/J')"
      ]
     },
     "execution_count": 20,
     "metadata": {},
     "output_type": "execute_result"
    },
    {
     "data": {
      "image/png": "[encoded data removed]",
      "text/plain": [
       "<Figure size 504x504 with 4 Axes>"
      ]
     },
     "metadata": {},
     "output_type": "display_data"
    }
   ],
   "source": [
    "fig,ax = plt.subplots(2,2,figsize=(7,7))\n",
    "fig.suptitle(\"Types' distributions by categories\")\n",
    "ax[0, 0].pie([y1[0],y2[0]], labels = ['I', 'E'],autopct='%1.1f%%')\n",
    "ax[0, 0].set_title('Category I/E')\n",
    "ax[0, 1].pie([y1[1],y2[1]], labels = ['N', 'S'],autopct='%1.1f%%')\n",
    "ax[0, 1].set_title('Category N/S')\n",
    "ax[1, 0].pie([y1[2],y2[2]], labels = ['F', 'T'],autopct='%1.1f%%')\n",
    "ax[1, 0].set_title('Category F/T')\n",
    "ax[1, 1].pie([y1[3],y2[3]], labels = ['P', 'J'],autopct='%1.1f%%')\n",
    "ax[1, 1].set_title('Category P/J')"
   ]
  },
  {
   "cell_type": "markdown",
   "metadata": {},
   "source": [
    "Categories FT and PJ are quite balanced. Accurracy will be adequate.\n",
    "However, types E and S are underrepresented in their respective categories, so f1_score will be better these categories."
   ]
  },
  {
   "cell_type": "markdown",
   "metadata": {},
   "source": [
    "### **Clean Data**"
   ]
  },
  {
   "cell_type": "code",
   "execution_count": 21,
   "metadata": {},
   "outputs": [],
   "source": [
    "stop_words = stopwords.words(\"english\")\n",
    "#create an object of class PorterStemmer\n",
    "porter = PorterStemmer()"
   ]
  },
  {
   "cell_type": "code",
   "execution_count": 22,
   "metadata": {},
   "outputs": [],
   "source": [
    "def cleanData(posts):\n",
    "    # Lowercase\n",
    "    clean_text = posts.lower()\n",
    "    #remove all hyperlinks\n",
    "    clean_text = re.sub(r'(https?:\\/\\/(?:www\\.|(?!www))[a-zA-Z0-9][a-zA-Z0-9-]+[a-zA-Z0-9]\\.[^\\s]{2,}|www\\.[a-zA-Z0-9][a-zA-Z0-9-]+[a-zA-Z0-9]\\.[^\\s]{2,}|https?:\\/\\/(?:www\\.|(?!www))[a-zA-Z0-9]+\\.[^\\s]{2,}|www\\.[a-zA-Z0-9]+\\.[^\\s]{2,})','',clean_text)\n",
    "    word_list = word_tokenize(clean_text)\n",
    "    clean_posts = []\n",
    "    for word in word_list:\n",
    "        if word.isalpha() and word not in stop_words:\n",
    "            word = porter.stem(word)\n",
    "            clean_posts.append(word)\n",
    "    return clean_posts\n"
   ]
  },
  {
   "cell_type": "code",
   "execution_count": 23,
   "metadata": {},
   "outputs": [
    {
     "name": "stdout",
     "output_type": "stream",
     "text": [
      "CPU times: user 5min 15s, sys: 743 ms, total: 5min 15s\n",
      "Wall time: 5min 16s\n"
     ]
    }
   ],
   "source": [
    "%%time\n",
    "df[\"posts_preprocessed\"]= df[\"posts\"].apply(lambda row: cleanData(row))"
   ]
  },
  {
   "cell_type": "code",
   "execution_count": 24,
   "metadata": {},
   "outputs": [
    {
     "data": {
      "text/html": [
       "<div>\n",
       "<style scoped>\n",
       "    .dataframe tbody tr th:only-of-type {\n",
       "        vertical-align: middle;\n",
       "    }\n",
       "\n",
       "    .dataframe tbody tr th {\n",
       "        vertical-align: top;\n",
       "    }\n",
       "\n",
       "    .dataframe thead th {\n",
       "        text-align: right;\n",
       "    }\n",
       "</style>\n",
       "<table border=\"1\" class=\"dataframe\">\n",
       "  <thead>\n",
       "    <tr style=\"text-align: right;\">\n",
       "      <th></th>\n",
       "      <th>type</th>\n",
       "      <th>posts</th>\n",
       "      <th>target_EI</th>\n",
       "      <th>target_NS</th>\n",
       "      <th>target_TF</th>\n",
       "      <th>target_PJ</th>\n",
       "      <th>posts_preprocessed</th>\n",
       "    </tr>\n",
       "  </thead>\n",
       "  <tbody>\n",
       "    <tr>\n",
       "      <th>0</th>\n",
       "      <td>INFJ</td>\n",
       "      <td>'http://www.youtube.com/watch?v=qsXHcwe3krw h...</td>\n",
       "      <td>I</td>\n",
       "      <td>N</td>\n",
       "      <td>F</td>\n",
       "      <td>J</td>\n",
       "      <td>[enfp, intj, moment, sportscent, top, ten, pla...</td>\n",
       "    </tr>\n",
       "    <tr>\n",
       "      <th>1</th>\n",
       "      <td>INFJ</td>\n",
       "      <td>Get high in backyard, roast and eat marshmell...</td>\n",
       "      <td>I</td>\n",
       "      <td>N</td>\n",
       "      <td>F</td>\n",
       "      <td>J</td>\n",
       "      <td>[get, high, backyard, roast, eat, marshmellow,...</td>\n",
       "    </tr>\n",
       "    <tr>\n",
       "      <th>2</th>\n",
       "      <td>ENTP</td>\n",
       "      <td>'I'm finding the lack of me in these posts ve...</td>\n",
       "      <td>E</td>\n",
       "      <td>N</td>\n",
       "      <td>T</td>\n",
       "      <td>P</td>\n",
       "      <td>[find, lack, post, alarm, sex, bore, posit, of...</td>\n",
       "    </tr>\n",
       "    <tr>\n",
       "      <th>3</th>\n",
       "      <td>ENTP</td>\n",
       "      <td>Sounds pretty much like my area and what I'm ...</td>\n",
       "      <td>E</td>\n",
       "      <td>N</td>\n",
       "      <td>T</td>\n",
       "      <td>P</td>\n",
       "      <td>[sound, pretti, much, like, area, go, right, t...</td>\n",
       "    </tr>\n",
       "    <tr>\n",
       "      <th>4</th>\n",
       "      <td>INTP</td>\n",
       "      <td>'Good one  _____   https://www.youtube.com/wa...</td>\n",
       "      <td>I</td>\n",
       "      <td>N</td>\n",
       "      <td>T</td>\n",
       "      <td>P</td>\n",
       "      <td>[one, cours, say, know, bless, curs, absolut, ...</td>\n",
       "    </tr>\n",
       "  </tbody>\n",
       "</table>\n",
       "</div>"
      ],
      "text/plain": [
       "   type                                              posts target_EI  \\\n",
       "0  INFJ   'http://www.youtube.com/watch?v=qsXHcwe3krw h...         I   \n",
       "1  INFJ   Get high in backyard, roast and eat marshmell...         I   \n",
       "2  ENTP   'I'm finding the lack of me in these posts ve...         E   \n",
       "3  ENTP   Sounds pretty much like my area and what I'm ...         E   \n",
       "4  INTP   'Good one  _____   https://www.youtube.com/wa...         I   \n",
       "\n",
       "  target_NS target_TF target_PJ  \\\n",
       "0         N         F         J   \n",
       "1         N         F         J   \n",
       "2         N         T         P   \n",
       "3         N         T         P   \n",
       "4         N         T         P   \n",
       "\n",
       "                                  posts_preprocessed  \n",
       "0  [enfp, intj, moment, sportscent, top, ten, pla...  \n",
       "1  [get, high, backyard, roast, eat, marshmellow,...  \n",
       "2  [find, lack, post, alarm, sex, bore, posit, of...  \n",
       "3  [sound, pretti, much, like, area, go, right, t...  \n",
       "4  [one, cours, say, know, bless, curs, absolut, ...  "
      ]
     },
     "execution_count": 24,
     "metadata": {},
     "output_type": "execute_result"
    }
   ],
   "source": [
    "df.head()"
   ]
  },
  {
   "cell_type": "markdown",
   "metadata": {},
   "source": [
    "## **Models**"
   ]
  },
  {
   "cell_type": "markdown",
   "metadata": {},
   "source": [
    "### **Vectorization**"
   ]
  },
  {
   "cell_type": "code",
   "execution_count": 25,
   "metadata": {},
   "outputs": [],
   "source": [
    "cv = CountVectorizer()\n",
    "tfidf = TfidfVectorizer()"
   ]
  },
  {
   "cell_type": "code",
   "execution_count": 26,
   "metadata": {},
   "outputs": [],
   "source": [
    "X=df[\"posts_preprocessed\"].map(' '.join)"
   ]
  },
  {
   "cell_type": "code",
   "execution_count": 27,
   "metadata": {},
   "outputs": [],
   "source": [
    "cnt_vector = cv.fit_transform(X)\n",
    "tfidf_vector = tfidf.fit_transform(X)"
   ]
  },
  {
   "cell_type": "code",
   "execution_count": 28,
   "metadata": {},
   "outputs": [],
   "source": [
    "vectors={'cnt_vector':cnt_vector,'tfidf_vector':tfidf_vector}"
   ]
  },
  {
   "cell_type": "markdown",
   "metadata": {},
   "source": [
    "### **Predictions**"
   ]
  },
  {
   "cell_type": "markdown",
   "metadata": {},
   "source": [
    "We will test the following classifiers for each category:\n",
    " * GaussianNb\n",
    " * MultinomialNB\n",
    " * LinearSVC\n",
    " * LogisticRegression"
   ]
  },
  {
   "cell_type": "code",
   "execution_count": 29,
   "metadata": {},
   "outputs": [],
   "source": [
    "classifiers = [\n",
    "    GaussianNB(),\n",
    "    MultinomialNB(),\n",
    "    LinearSVC(max_iter=50000,class_weight='balanced'),\n",
    "    LogisticRegression(max_iter=50000,class_weight='balanced')\n",
    "    ]"
   ]
  },
  {
   "cell_type": "code",
   "execution_count": 30,
   "metadata": {},
   "outputs": [],
   "source": [
    "def model_training(target):\n",
    "    scores={}\n",
    "    for i in vectors:\n",
    "        X_train,X_test,y_train,y_test = train_test_split(vectors[i],df[target],test_size=0.2)\n",
    "        for classifier in classifiers:\n",
    "            if str(classifier) == \"GaussianNB()\":\n",
    "                X_train=X_train.todense()\n",
    "                X_test=X_test.todense()\n",
    "            model = classifier.fit(X_train, y_train)\n",
    "            predictions=model.predict(X_test)\n",
    "            classification=metrics.classification_report(y_test,predictions,zero_division=0)\n",
    "            model_name = i +\"+\"+str(classifier)\n",
    "            model_name_clean = re.sub(r'\\([^)]*\\)', '', model_name) #delete text within parentheses\n",
    "            if target == \"target_EI\" or target == \"target_NS\":\n",
    "                avg=metrics.f1_score(y_test,predictions,zero_division=0,average='macro')\n",
    "            else:\n",
    "                avg=metrics.accuracy_score(y_test,predictions)\n",
    "\n",
    "            scores[model_name_clean]=avg\n",
    "            print(model_name)\n",
    "            print(classification)\n",
    "    return scores"
   ]
  },
  {
   "cell_type": "markdown",
   "metadata": {},
   "source": [
    "**EI category**:"
   ]
  },
  {
   "cell_type": "code",
   "execution_count": 31,
   "metadata": {},
   "outputs": [
    {
     "name": "stdout",
     "output_type": "stream",
     "text": [
      "cnt_vector+GaussianNB()\n",
      "              precision    recall  f1-score   support\n",
      "\n",
      "           E       0.28      0.27      0.27       747\n",
      "           I       0.78      0.79      0.79      2504\n",
      "\n",
      "    accuracy                           0.67      3251\n",
      "   macro avg       0.53      0.53      0.53      3251\n",
      "weighted avg       0.67      0.67      0.67      3251\n",
      "\n",
      "cnt_vector+MultinomialNB()\n",
      "              precision    recall  f1-score   support\n",
      "\n",
      "           E       0.57      0.35      0.44       747\n",
      "           I       0.83      0.92      0.87      2504\n",
      "\n",
      "    accuracy                           0.79      3251\n",
      "   macro avg       0.70      0.64      0.65      3251\n",
      "weighted avg       0.77      0.79      0.77      3251\n",
      "\n",
      "cnt_vector+LinearSVC(class_weight='balanced', max_iter=50000)\n",
      "              precision    recall  f1-score   support\n",
      "\n",
      "           E       0.51      0.51      0.51       747\n",
      "           I       0.85      0.85      0.85      2504\n",
      "\n",
      "    accuracy                           0.77      3251\n",
      "   macro avg       0.68      0.68      0.68      3251\n",
      "weighted avg       0.77      0.77      0.77      3251\n",
      "\n",
      "cnt_vector+LogisticRegression(class_weight='balanced', max_iter=50000)\n",
      "              precision    recall  f1-score   support\n",
      "\n",
      "           E       0.52      0.55      0.54       747\n",
      "           I       0.86      0.85      0.86      2504\n",
      "\n",
      "    accuracy                           0.78      3251\n",
      "   macro avg       0.69      0.70      0.70      3251\n",
      "weighted avg       0.79      0.78      0.78      3251\n",
      "\n",
      "tfidf_vector+GaussianNB()\n",
      "              precision    recall  f1-score   support\n",
      "\n",
      "           E       0.27      0.25      0.26       752\n",
      "           I       0.78      0.80      0.79      2499\n",
      "\n",
      "    accuracy                           0.67      3251\n",
      "   macro avg       0.52      0.52      0.52      3251\n",
      "weighted avg       0.66      0.67      0.66      3251\n",
      "\n",
      "tfidf_vector+MultinomialNB()\n",
      "              precision    recall  f1-score   support\n",
      "\n",
      "           E       1.00      0.00      0.00       752\n",
      "           I       0.77      1.00      0.87      2499\n",
      "\n",
      "    accuracy                           0.77      3251\n",
      "   macro avg       0.88      0.50      0.44      3251\n",
      "weighted avg       0.82      0.77      0.67      3251\n",
      "\n",
      "tfidf_vector+LinearSVC(class_weight='balanced', max_iter=50000)\n",
      "              precision    recall  f1-score   support\n",
      "\n",
      "           E       0.57      0.62      0.59       752\n",
      "           I       0.88      0.86      0.87      2499\n",
      "\n",
      "    accuracy                           0.80      3251\n",
      "   macro avg       0.73      0.74      0.73      3251\n",
      "weighted avg       0.81      0.80      0.81      3251\n",
      "\n",
      "tfidf_vector+LogisticRegression(class_weight='balanced', max_iter=50000)\n",
      "              precision    recall  f1-score   support\n",
      "\n",
      "           E       0.60      0.71      0.65       752\n",
      "           I       0.91      0.86      0.88      2499\n",
      "\n",
      "    accuracy                           0.83      3251\n",
      "   macro avg       0.76      0.79      0.77      3251\n",
      "weighted avg       0.84      0.83      0.83      3251\n",
      "\n",
      "CPU times: user 40min 28s, sys: 2min 7s, total: 42min 35s\n",
      "Wall time: 13min 31s\n"
     ]
    }
   ],
   "source": [
    "%%time\n",
    "EI_f1_scores=model_training(\"target_EI\")"
   ]
  },
  {
   "cell_type": "markdown",
   "metadata": {},
   "source": [
    "**NS category:**"
   ]
  },
  {
   "cell_type": "code",
   "execution_count": null,
   "metadata": {},
   "outputs": [],
   "source": []
  },
  {
   "cell_type": "code",
   "execution_count": 32,
   "metadata": {},
   "outputs": [
    {
     "name": "stdout",
     "output_type": "stream",
     "text": [
      "cnt_vector+GaussianNB()\n",
      "              precision    recall  f1-score   support\n",
      "\n",
      "           N       0.86      0.94      0.90      2764\n",
      "           S       0.23      0.10      0.14       487\n",
      "\n",
      "    accuracy                           0.81      3251\n",
      "   macro avg       0.54      0.52      0.52      3251\n",
      "weighted avg       0.76      0.81      0.78      3251\n",
      "\n",
      "cnt_vector+MultinomialNB()\n",
      "              precision    recall  f1-score   support\n",
      "\n",
      "           N       0.86      0.97      0.91      2764\n",
      "           S       0.42      0.14      0.21       487\n",
      "\n",
      "    accuracy                           0.84      3251\n",
      "   macro avg       0.64      0.55      0.56      3251\n",
      "weighted avg       0.80      0.84      0.81      3251\n",
      "\n",
      "cnt_vector+LinearSVC(class_weight='balanced', max_iter=50000)\n",
      "              precision    recall  f1-score   support\n",
      "\n",
      "           N       0.90      0.91      0.90      2764\n",
      "           S       0.45      0.43      0.44       487\n",
      "\n",
      "    accuracy                           0.84      3251\n",
      "   macro avg       0.68      0.67      0.67      3251\n",
      "weighted avg       0.83      0.84      0.83      3251\n",
      "\n",
      "cnt_vector+LogisticRegression(class_weight='balanced', max_iter=50000)\n",
      "              precision    recall  f1-score   support\n",
      "\n",
      "           N       0.91      0.90      0.90      2764\n",
      "           S       0.46      0.48      0.47       487\n",
      "\n",
      "    accuracy                           0.84      3251\n",
      "   macro avg       0.69      0.69      0.69      3251\n",
      "weighted avg       0.84      0.84      0.84      3251\n",
      "\n",
      "tfidf_vector+GaussianNB()\n",
      "              precision    recall  f1-score   support\n",
      "\n",
      "           N       0.87      0.94      0.91      2819\n",
      "           S       0.22      0.11      0.15       432\n",
      "\n",
      "    accuracy                           0.83      3251\n",
      "   macro avg       0.55      0.53      0.53      3251\n",
      "weighted avg       0.79      0.83      0.81      3251\n",
      "\n",
      "tfidf_vector+MultinomialNB()\n",
      "              precision    recall  f1-score   support\n",
      "\n",
      "           N       0.87      1.00      0.93      2819\n",
      "           S       0.00      0.00      0.00       432\n",
      "\n",
      "    accuracy                           0.87      3251\n",
      "   macro avg       0.43      0.50      0.46      3251\n",
      "weighted avg       0.75      0.87      0.81      3251\n",
      "\n",
      "tfidf_vector+LinearSVC(class_weight='balanced', max_iter=50000)\n",
      "              precision    recall  f1-score   support\n",
      "\n",
      "           N       0.93      0.92      0.92      2819\n",
      "           S       0.50      0.53      0.52       432\n",
      "\n",
      "    accuracy                           0.87      3251\n",
      "   macro avg       0.72      0.72      0.72      3251\n",
      "weighted avg       0.87      0.87      0.87      3251\n",
      "\n",
      "tfidf_vector+LogisticRegression(class_weight='balanced', max_iter=50000)\n",
      "              precision    recall  f1-score   support\n",
      "\n",
      "           N       0.95      0.89      0.92      2819\n",
      "           S       0.50      0.69      0.58       432\n",
      "\n",
      "    accuracy                           0.87      3251\n",
      "   macro avg       0.72      0.79      0.75      3251\n",
      "weighted avg       0.89      0.87      0.88      3251\n",
      "\n",
      "CPU times: user 28min 56s, sys: 2min 11s, total: 31min 7s\n",
      "Wall time: 10min 30s\n"
     ]
    }
   ],
   "source": [
    "%%time\n",
    "NS_f1_scores=model_training(\"target_NS\")"
   ]
  },
  {
   "cell_type": "markdown",
   "metadata": {},
   "source": [
    "**TF category:**"
   ]
  },
  {
   "cell_type": "code",
   "execution_count": 33,
   "metadata": {},
   "outputs": [
    {
     "name": "stdout",
     "output_type": "stream",
     "text": [
      "cnt_vector+GaussianNB()\n",
      "              precision    recall  f1-score   support\n",
      "\n",
      "           F       0.63      0.46      0.54      1780\n",
      "           T       0.51      0.67      0.58      1471\n",
      "\n",
      "    accuracy                           0.56      3251\n",
      "   macro avg       0.57      0.57      0.56      3251\n",
      "weighted avg       0.58      0.56      0.56      3251\n",
      "\n",
      "cnt_vector+MultinomialNB()\n",
      "              precision    recall  f1-score   support\n",
      "\n",
      "           F       0.82      0.83      0.82      1780\n",
      "           T       0.79      0.78      0.78      1471\n",
      "\n",
      "    accuracy                           0.80      3251\n",
      "   macro avg       0.80      0.80      0.80      3251\n",
      "weighted avg       0.80      0.80      0.80      3251\n",
      "\n",
      "cnt_vector+LinearSVC(class_weight='balanced', max_iter=50000)\n",
      "              precision    recall  f1-score   support\n",
      "\n",
      "           F       0.79      0.77      0.78      1780\n",
      "           T       0.73      0.75      0.74      1471\n",
      "\n",
      "    accuracy                           0.76      3251\n",
      "   macro avg       0.76      0.76      0.76      3251\n",
      "weighted avg       0.76      0.76      0.76      3251\n",
      "\n",
      "cnt_vector+LogisticRegression(class_weight='balanced', max_iter=50000)\n",
      "              precision    recall  f1-score   support\n",
      "\n",
      "           F       0.81      0.78      0.79      1780\n",
      "           T       0.74      0.77      0.76      1471\n",
      "\n",
      "    accuracy                           0.78      3251\n",
      "   macro avg       0.78      0.78      0.78      3251\n",
      "weighted avg       0.78      0.78      0.78      3251\n",
      "\n",
      "tfidf_vector+GaussianNB()\n",
      "              precision    recall  f1-score   support\n",
      "\n",
      "           F       0.62      0.50      0.56      1764\n",
      "           T       0.52      0.64      0.58      1487\n",
      "\n",
      "    accuracy                           0.57      3251\n",
      "   macro avg       0.57      0.57      0.57      3251\n",
      "weighted avg       0.58      0.57      0.57      3251\n",
      "\n",
      "tfidf_vector+MultinomialNB()\n",
      "              precision    recall  f1-score   support\n",
      "\n",
      "           F       0.59      0.98      0.73      1764\n",
      "           T       0.89      0.18      0.31      1487\n",
      "\n",
      "    accuracy                           0.62      3251\n",
      "   macro avg       0.74      0.58      0.52      3251\n",
      "weighted avg       0.72      0.62      0.54      3251\n",
      "\n",
      "tfidf_vector+LinearSVC(class_weight='balanced', max_iter=50000)\n",
      "              precision    recall  f1-score   support\n",
      "\n",
      "           F       0.82      0.81      0.82      1764\n",
      "           T       0.78      0.79      0.79      1487\n",
      "\n",
      "    accuracy                           0.80      3251\n",
      "   macro avg       0.80      0.80      0.80      3251\n",
      "weighted avg       0.80      0.80      0.80      3251\n",
      "\n",
      "tfidf_vector+LogisticRegression(class_weight='balanced', max_iter=50000)\n",
      "              precision    recall  f1-score   support\n",
      "\n",
      "           F       0.85      0.82      0.83      1764\n",
      "           T       0.79      0.83      0.81      1487\n",
      "\n",
      "    accuracy                           0.82      3251\n",
      "   macro avg       0.82      0.82      0.82      3251\n",
      "weighted avg       0.82      0.82      0.82      3251\n",
      "\n",
      "CPU times: user 30min 55s, sys: 1min 47s, total: 32min 43s\n",
      "Wall time: 10min 34s\n"
     ]
    }
   ],
   "source": [
    "%%time\n",
    "TF_acc=model_training(\"target_TF\")"
   ]
  },
  {
   "cell_type": "markdown",
   "metadata": {},
   "source": [
    "**PJ category:**"
   ]
  },
  {
   "cell_type": "code",
   "execution_count": 34,
   "metadata": {},
   "outputs": [
    {
     "name": "stdout",
     "output_type": "stream",
     "text": [
      "cnt_vector+GaussianNB()\n",
      "              precision    recall  f1-score   support\n",
      "\n",
      "           J       0.46      0.55      0.50      1286\n",
      "           P       0.66      0.57      0.61      1965\n",
      "\n",
      "    accuracy                           0.56      3251\n",
      "   macro avg       0.56      0.56      0.56      3251\n",
      "weighted avg       0.58      0.56      0.57      3251\n",
      "\n",
      "cnt_vector+MultinomialNB()\n",
      "              precision    recall  f1-score   support\n",
      "\n",
      "           J       0.68      0.58      0.63      1286\n",
      "           P       0.75      0.82      0.78      1965\n",
      "\n",
      "    accuracy                           0.73      3251\n",
      "   macro avg       0.72      0.70      0.71      3251\n",
      "weighted avg       0.72      0.73      0.72      3251\n",
      "\n",
      "cnt_vector+LinearSVC(class_weight='balanced', max_iter=50000)\n",
      "              precision    recall  f1-score   support\n",
      "\n",
      "           J       0.60      0.61      0.61      1286\n",
      "           P       0.74      0.74      0.74      1965\n",
      "\n",
      "    accuracy                           0.69      3251\n",
      "   macro avg       0.67      0.67      0.67      3251\n",
      "weighted avg       0.69      0.69      0.69      3251\n",
      "\n",
      "cnt_vector+LogisticRegression(class_weight='balanced', max_iter=50000)\n",
      "              precision    recall  f1-score   support\n",
      "\n",
      "           J       0.62      0.64      0.63      1286\n",
      "           P       0.76      0.74      0.75      1965\n",
      "\n",
      "    accuracy                           0.70      3251\n",
      "   macro avg       0.69      0.69      0.69      3251\n",
      "weighted avg       0.70      0.70      0.70      3251\n",
      "\n",
      "tfidf_vector+GaussianNB()\n",
      "              precision    recall  f1-score   support\n",
      "\n",
      "           J       0.45      0.55      0.50      1279\n",
      "           P       0.66      0.57      0.61      1972\n",
      "\n",
      "    accuracy                           0.56      3251\n",
      "   macro avg       0.56      0.56      0.55      3251\n",
      "weighted avg       0.58      0.56      0.57      3251\n",
      "\n",
      "tfidf_vector+MultinomialNB()\n",
      "              precision    recall  f1-score   support\n",
      "\n",
      "           J       0.00      0.00      0.00      1279\n",
      "           P       0.61      1.00      0.76      1972\n",
      "\n",
      "    accuracy                           0.61      3251\n",
      "   macro avg       0.30      0.50      0.38      3251\n",
      "weighted avg       0.37      0.61      0.46      3251\n",
      "\n",
      "tfidf_vector+LinearSVC(class_weight='balanced', max_iter=50000)\n",
      "              precision    recall  f1-score   support\n",
      "\n",
      "           J       0.67      0.67      0.67      1279\n",
      "           P       0.78      0.78      0.78      1972\n",
      "\n",
      "    accuracy                           0.74      3251\n",
      "   macro avg       0.73      0.73      0.73      3251\n",
      "weighted avg       0.74      0.74      0.74      3251\n",
      "\n",
      "tfidf_vector+LogisticRegression(class_weight='balanced', max_iter=50000)\n",
      "              precision    recall  f1-score   support\n",
      "\n",
      "           J       0.72      0.72      0.72      1279\n",
      "           P       0.82      0.81      0.82      1972\n",
      "\n",
      "    accuracy                           0.78      3251\n",
      "   macro avg       0.77      0.77      0.77      3251\n",
      "weighted avg       0.78      0.78      0.78      3251\n",
      "\n",
      "CPU times: user 42min 43s, sys: 1min 53s, total: 44min 36s\n",
      "Wall time: 13min 44s\n"
     ]
    }
   ],
   "source": [
    "%%time\n",
    "PJ_acc=model_training(\"target_PJ\")"
   ]
  },
  {
   "cell_type": "markdown",
   "metadata": {},
   "source": [
    "As said before, we have to look at precision for JP category. It seems that tfidf_vector() + LinearSVC() fit better the category"
   ]
  },
  {
   "cell_type": "markdown",
   "metadata": {},
   "source": [
    "### **Analysis of models**"
   ]
  },
  {
   "cell_type": "markdown",
   "metadata": {},
   "source": [
    "We will compare the differents models for each category.\n",
    "As seen before, for the categories E/I and N/S we are interesting in f1_score results. For T/F and P/J, we are focus on accuracy."
   ]
  },
  {
   "cell_type": "code",
   "execution_count": 35,
   "metadata": {},
   "outputs": [
    {
     "data": {
      "text/plain": [
       "Text(0.5, 1.0, \"models' accuracies for P/J category\")"
      ]
     },
     "execution_count": 35,
     "metadata": {},
     "output_type": "execute_result"
    },
    {
     "data": {
      "image/png": "[encoded data removed]",
      "text/plain": [
       "<Figure size 1080x1080 with 4 Axes>"
      ]
     },
     "metadata": {
      "needs_background": "light"
     },
     "output_type": "display_data"
    }
   ],
   "source": [
    "fig,ax = plt.subplots(2,2,figsize=(15,15))\n",
    "fig.subplots_adjust(hspace=0.75)\n",
    "\n",
    "ax[0, 0].bar(range(len(EI_f1_scores)),list(EI_f1_scores.values()), align='center')\n",
    "ax[0, 0].set_xticks(range(len(EI_f1_scores)))\n",
    "ax[0, 0].set_xticklabels([list(EI_f1_scores.keys())[x] for x in range(len(EI_f1_scores))], rotation=90)\n",
    "ax[0, 0].set_ylabel(\"f1_score\")\n",
    "ax[0, 0].set_title(\"models' f1_scores for E/I category\")\n",
    "\n",
    "ax[0, 1].bar(range(len(NS_f1_scores)), list(NS_f1_scores.values()), align='center')\n",
    "ax[0, 1].set_xticks(range(len(NS_f1_scores)))\n",
    "ax[0, 1].set_xticklabels([list(NS_f1_scores.keys())[x] for x in range(len(NS_f1_scores))], rotation=90)\n",
    "ax[0, 1].set_ylabel(\"f1_score\")\n",
    "ax[0, 1].set_title(\"models' f1_scores for N/S category\")\n",
    "\n",
    "ax[1, 0].bar(range(len(TF_acc)), list(TF_acc.values()), align='center')\n",
    "ax[1, 0].set_xticks(range(len(TF_acc)))\n",
    "ax[1, 0].set_xticklabels([list(TF_acc.keys())[x] for x in range(len(TF_acc))], rotation=90)\n",
    "ax[1, 0].set_ylabel(\"accuracy\")\n",
    "ax[1, 0].set_title(\"models' accuracies for F/T category\")\n",
    "\n",
    "ax[1, 1].bar(range(len(PJ_acc)), list(PJ_acc.values()), align='center')\n",
    "ax[1, 1].set_xticks(range(len(PJ_acc)))\n",
    "ax[1, 1].set_xticklabels([list(PJ_acc.keys())[x] for x in range(len(PJ_acc))], rotation=90)\n",
    "ax[1, 1].set_ylabel(\"accuracy\")\n",
    "ax[1, 1].set_title(\"models' accuracies for P/J category\")"
   ]
  },
  {
   "cell_type": "markdown",
   "metadata": {},
   "source": [
    "**As we can see on the bar charts above, tfidf_vector + LogisticRegression() is the model which fit well all the categories.**"
   ]
  },
  {
   "cell_type": "markdown",
   "metadata": {},
   "source": [
    "## **Exporting models**"
   ]
  },
  {
   "cell_type": "code",
   "execution_count": 36,
   "metadata": {},
   "outputs": [],
   "source": [
    "pipe = Pipeline([\n",
    "        ('vector', TfidfVectorizer()),\n",
    "        ('regressor', LogisticRegression(max_iter=50000,class_weight='balanced'))\n",
    "        ])"
   ]
  },
  {
   "cell_type": "code",
   "execution_count": 37,
   "metadata": {},
   "outputs": [
    {
     "data": {
      "text/plain": [
       "['models/model_EI.joblib']"
      ]
     },
     "execution_count": 37,
     "metadata": {},
     "output_type": "execute_result"
    }
   ],
   "source": [
    "model_EI = pipe.fit(X, df[\"target_EI\"])\n",
    "joblib.dump(model_EI, \"models/model_EI.joblib\")"
   ]
  },
  {
   "cell_type": "code",
   "execution_count": 38,
   "metadata": {},
   "outputs": [
    {
     "data": {
      "text/plain": [
       "['models/model_NS.joblib']"
      ]
     },
     "execution_count": 38,
     "metadata": {},
     "output_type": "execute_result"
    }
   ],
   "source": [
    "model_NS = pipe.fit(X, df[\"target_NS\"])\n",
    "joblib.dump(model_NS, \"models/model_NS.joblib\")"
   ]
  },
  {
   "cell_type": "code",
   "execution_count": 39,
   "metadata": {},
   "outputs": [
    {
     "data": {
      "text/plain": [
       "['models/model_TF.joblib']"
      ]
     },
     "execution_count": 39,
     "metadata": {},
     "output_type": "execute_result"
    }
   ],
   "source": [
    "model_TF = pipe.fit(X, df[\"target_TF\"])\n",
    "joblib.dump(model_TF, \"models/model_TF.joblib\")"
   ]
  },
  {
   "cell_type": "code",
   "execution_count": 40,
   "metadata": {},
   "outputs": [
    {
     "data": {
      "text/plain": [
       "['models/model_PJ.joblib']"
      ]
     },
     "execution_count": 40,
     "metadata": {},
     "output_type": "execute_result"
    }
   ],
   "source": [
    "model_PJ = pipe.fit(X, df[\"target_PJ\"])\n",
    "joblib.dump(model_PJ, \"models/model_PJ.joblib\")"
   ]
  },
  {
   "cell_type": "markdown",
   "metadata": {},
   "source": [
    "## **Predictions**"
   ]
  },
  {
   "cell_type": "markdown",
   "metadata": {},
   "source": [
    "### **Load Models**"
   ]
  },
  {
   "cell_type": "code",
   "execution_count": 41,
   "metadata": {},
   "outputs": [],
   "source": [
    "pred_EI=joblib.load('models/model_EI.joblib')\n",
    "pred_NS=joblib.load('models/model_NS.joblib')\n",
    "pred_TF=joblib.load('models/model_TF.joblib')\n",
    "pred_PJ=joblib.load('models/model_PJ.joblib')"
   ]
  },
  {
   "cell_type": "markdown",
   "metadata": {},
   "source": [
    "### **Test**"
   ]
  },
  {
   "cell_type": "code",
   "execution_count": 42,
   "metadata": {},
   "outputs": [],
   "source": [
    "test_string=['I play football during free time']"
   ]
  },
  {
   "cell_type": "code",
   "execution_count": 43,
   "metadata": {},
   "outputs": [],
   "source": [
    "result_IE = pred_EI.predict(test_string)\n",
    "result_NS = pred_NS.predict(test_string)\n",
    "result_TF = pred_TF.predict(test_string)\n",
    "result_PJ = pred_PJ.predict(test_string)"
   ]
  },
  {
   "cell_type": "code",
   "execution_count": 44,
   "metadata": {},
   "outputs": [
    {
     "name": "stdout",
     "output_type": "stream",
     "text": [
      "INTP\n"
     ]
    }
   ],
   "source": [
    "print(result_IE[0]+result_NS[0]+result_TF[0]+result_PJ[0])"
   ]
  },
  {
   "cell_type": "code",
   "execution_count": null,
   "metadata": {},
   "outputs": [],
   "source": []
  },
  {
   "cell_type": "code",
   "execution_count": null,
   "metadata": {},
   "outputs": [],
   "source": []
  }
 ],
 "metadata": {
  "kernelspec": {
   "display_name": "Python 3",
   "language": "python",
   "name": "python3"
  },
  "language_info": {
   "codemirror_mode": {
    "name": "ipython",
    "version": 3
   },
   "file_extension": ".py",
   "mimetype": "text/x-python",
   "name": "python",
   "nbconvert_exporter": "python",
   "pygments_lexer": "ipython3",
   "version": "3.7.1"
  }
 },
 "nbformat": 4,
 "nbformat_minor": 4
}
