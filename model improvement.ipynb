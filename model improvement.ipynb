{
 "cells": [
  {
   "cell_type": "markdown",
   "metadata": {},
   "source": [
    "## **Libraries**"
   ]
  },
  {
   "cell_type": "code",
   "execution_count": 125,
   "metadata": {},
   "outputs": [],
   "source": [
    "import pandas as pd\n",
    "import matplotlib.pyplot as plt\n",
    "import re\n",
    "import nltk\n",
    "import numpy as np\n",
    "from nltk import word_tokenize\n",
    "from nltk.corpus import stopwords\n",
    "from nltk.stem import PorterStemmer\n",
    "\n",
    "from sklearn.pipeline import Pipeline\n",
    "from sklearn.model_selection import train_test_split\n",
    "from sklearn.feature_extraction.text import CountVectorizer\n",
    "from sklearn.feature_extraction.text import TfidfVectorizer\n",
    "from sklearn.naive_bayes import MultinomialNB\n",
    "from sklearn import metrics\n",
    "from sklearn.svm import LinearSVC\n",
    "from sklearn.ensemble import RandomForestClassifier"
   ]
  },
  {
   "cell_type": "markdown",
   "metadata": {},
   "source": [
    "## **Import Dataset**"
   ]
  },
  {
   "cell_type": "code",
   "execution_count": 3,
   "metadata": {},
   "outputs": [],
   "source": [
    "df=pd.read_csv(\"mbti_dataset.csv\")"
   ]
  },
  {
   "cell_type": "code",
   "execution_count": 4,
   "metadata": {},
   "outputs": [
    {
     "data": {
      "text/html": [
       "<div>\n",
       "<style scoped>\n",
       "    .dataframe tbody tr th:only-of-type {\n",
       "        vertical-align: middle;\n",
       "    }\n",
       "\n",
       "    .dataframe tbody tr th {\n",
       "        vertical-align: top;\n",
       "    }\n",
       "\n",
       "    .dataframe thead th {\n",
       "        text-align: right;\n",
       "    }\n",
       "</style>\n",
       "<table border=\"1\" class=\"dataframe\">\n",
       "  <thead>\n",
       "    <tr style=\"text-align: right;\">\n",
       "      <th></th>\n",
       "      <th>type</th>\n",
       "      <th>posts</th>\n",
       "    </tr>\n",
       "  </thead>\n",
       "  <tbody>\n",
       "    <tr>\n",
       "      <th>0</th>\n",
       "      <td>INFJ</td>\n",
       "      <td>'http://www.youtube.com/watch?v=qsXHcwe3krw|||...</td>\n",
       "    </tr>\n",
       "    <tr>\n",
       "      <th>1</th>\n",
       "      <td>ENTP</td>\n",
       "      <td>'I'm finding the lack of me in these posts ver...</td>\n",
       "    </tr>\n",
       "    <tr>\n",
       "      <th>2</th>\n",
       "      <td>INTP</td>\n",
       "      <td>'Good one  _____   https://www.youtube.com/wat...</td>\n",
       "    </tr>\n",
       "    <tr>\n",
       "      <th>3</th>\n",
       "      <td>INTJ</td>\n",
       "      <td>'Dear INTP,   I enjoyed our conversation the o...</td>\n",
       "    </tr>\n",
       "    <tr>\n",
       "      <th>4</th>\n",
       "      <td>ENTJ</td>\n",
       "      <td>'You're fired.|||That's another silly misconce...</td>\n",
       "    </tr>\n",
       "  </tbody>\n",
       "</table>\n",
       "</div>"
      ],
      "text/plain": [
       "   type                                              posts\n",
       "0  INFJ  'http://www.youtube.com/watch?v=qsXHcwe3krw|||...\n",
       "1  ENTP  'I'm finding the lack of me in these posts ver...\n",
       "2  INTP  'Good one  _____   https://www.youtube.com/wat...\n",
       "3  INTJ  'Dear INTP,   I enjoyed our conversation the o...\n",
       "4  ENTJ  'You're fired.|||That's another silly misconce..."
      ]
     },
     "execution_count": 4,
     "metadata": {},
     "output_type": "execute_result"
    }
   ],
   "source": [
    "df.head()"
   ]
  },
  {
   "cell_type": "markdown",
   "metadata": {},
   "source": [
    "## **Preprocessing data**"
   ]
  },
  {
   "cell_type": "code",
   "execution_count": 22,
   "metadata": {},
   "outputs": [],
   "source": [
    "df[\"target_EI\"]=df[\"type\"].apply(lambda row: row[0])\n",
    "df[\"target_NS\"]=df[\"type\"].apply(lambda row: row[1])\n",
    "df[\"target_TF\"]=df[\"type\"].apply(lambda row: row[2])\n",
    "df[\"target_PJ\"]=df[\"type\"].apply(lambda row: row[3])"
   ]
  },
  {
   "cell_type": "code",
   "execution_count": 23,
   "metadata": {},
   "outputs": [
    {
     "data": {
      "text/html": [
       "<div>\n",
       "<style scoped>\n",
       "    .dataframe tbody tr th:only-of-type {\n",
       "        vertical-align: middle;\n",
       "    }\n",
       "\n",
       "    .dataframe tbody tr th {\n",
       "        vertical-align: top;\n",
       "    }\n",
       "\n",
       "    .dataframe thead th {\n",
       "        text-align: right;\n",
       "    }\n",
       "</style>\n",
       "<table border=\"1\" class=\"dataframe\">\n",
       "  <thead>\n",
       "    <tr style=\"text-align: right;\">\n",
       "      <th></th>\n",
       "      <th>type</th>\n",
       "      <th>posts</th>\n",
       "      <th>target_EI</th>\n",
       "      <th>target_NS</th>\n",
       "      <th>target_TF</th>\n",
       "      <th>target_PJ</th>\n",
       "    </tr>\n",
       "  </thead>\n",
       "  <tbody>\n",
       "    <tr>\n",
       "      <th>0</th>\n",
       "      <td>INFJ</td>\n",
       "      <td>'http://www.youtube.com/watch?v=qsXHcwe3krw|||...</td>\n",
       "      <td>I</td>\n",
       "      <td>N</td>\n",
       "      <td>F</td>\n",
       "      <td>J</td>\n",
       "    </tr>\n",
       "    <tr>\n",
       "      <th>1</th>\n",
       "      <td>ENTP</td>\n",
       "      <td>'I'm finding the lack of me in these posts ver...</td>\n",
       "      <td>E</td>\n",
       "      <td>N</td>\n",
       "      <td>T</td>\n",
       "      <td>P</td>\n",
       "    </tr>\n",
       "    <tr>\n",
       "      <th>2</th>\n",
       "      <td>INTP</td>\n",
       "      <td>'Good one  _____   https://www.youtube.com/wat...</td>\n",
       "      <td>I</td>\n",
       "      <td>N</td>\n",
       "      <td>T</td>\n",
       "      <td>P</td>\n",
       "    </tr>\n",
       "    <tr>\n",
       "      <th>3</th>\n",
       "      <td>INTJ</td>\n",
       "      <td>'Dear INTP,   I enjoyed our conversation the o...</td>\n",
       "      <td>I</td>\n",
       "      <td>N</td>\n",
       "      <td>T</td>\n",
       "      <td>J</td>\n",
       "    </tr>\n",
       "    <tr>\n",
       "      <th>4</th>\n",
       "      <td>ENTJ</td>\n",
       "      <td>'You're fired.|||That's another silly misconce...</td>\n",
       "      <td>E</td>\n",
       "      <td>N</td>\n",
       "      <td>T</td>\n",
       "      <td>J</td>\n",
       "    </tr>\n",
       "  </tbody>\n",
       "</table>\n",
       "</div>"
      ],
      "text/plain": [
       "   type                                              posts target_EI  \\\n",
       "0  INFJ  'http://www.youtube.com/watch?v=qsXHcwe3krw|||...         I   \n",
       "1  ENTP  'I'm finding the lack of me in these posts ver...         E   \n",
       "2  INTP  'Good one  _____   https://www.youtube.com/wat...         I   \n",
       "3  INTJ  'Dear INTP,   I enjoyed our conversation the o...         I   \n",
       "4  ENTJ  'You're fired.|||That's another silly misconce...         E   \n",
       "\n",
       "  target_NS target_TF target_PJ  \n",
       "0         N         F         J  \n",
       "1         N         T         P  \n",
       "2         N         T         P  \n",
       "3         N         T         J  \n",
       "4         N         T         J  "
      ]
     },
     "execution_count": 23,
     "metadata": {},
     "output_type": "execute_result"
    }
   ],
   "source": [
    "df.head()"
   ]
  },
  {
   "cell_type": "code",
   "execution_count": 57,
   "metadata": {},
   "outputs": [],
   "source": [
    "y1=[]\n",
    "y2=[]\n",
    "barWidth = 0.4\n",
    "r1 = range(len(y1))\n",
    "r2 = [x + barWidth for x in r1]"
   ]
  },
  {
   "cell_type": "code",
   "execution_count": 58,
   "metadata": {},
   "outputs": [],
   "source": [
    "y1.append(df[\"target_EI\"].value_counts()[0])\n",
    "y2.append(df[\"target_EI\"].value_counts()[1])"
   ]
  },
  {
   "cell_type": "code",
   "execution_count": 59,
   "metadata": {},
   "outputs": [],
   "source": [
    "y1.append(df[\"target_NS\"].value_counts()[0])\n",
    "y2.append(df[\"target_NS\"].value_counts()[1])"
   ]
  },
  {
   "cell_type": "code",
   "execution_count": 60,
   "metadata": {},
   "outputs": [],
   "source": [
    "y1.append(df[\"target_TF\"].value_counts()[0])\n",
    "y2.append(df[\"target_TF\"].value_counts()[1])"
   ]
  },
  {
   "cell_type": "code",
   "execution_count": 61,
   "metadata": {},
   "outputs": [],
   "source": [
    "y1.append(df[\"target_PJ\"].value_counts()[0])\n",
    "y2.append(df[\"target_PJ\"].value_counts()[1])"
   ]
  },
  {
   "cell_type": "code",
   "execution_count": 100,
   "metadata": {},
   "outputs": [
    {
     "data": {
      "text/plain": [
       "([<matplotlib.patches.Wedge at 0x7fd8dd370c50>,\n",
       "  <matplotlib.patches.Wedge at 0x7fd8dd368160>],\n",
       " [Text(-0.35352847293610057, 1.0416417900715529, 'P'),\n",
       "  Text(0.3535285704616412, -1.041641756971824, 'J')])"
      ]
     },
     "execution_count": 100,
     "metadata": {},
     "output_type": "execute_result"
    },
    {
     "data": {
      "image/png": "[encoded data removed]",
      "text/plain": [
       "<Figure size 504x504 with 4 Axes>"
      ]
     },
     "metadata": {},
     "output_type": "display_data"
    }
   ],
   "source": [
    "fig,ax = plt.subplots(2,2,figsize=(7,7))\n",
    "fig.suptitle(\"Types' repartition in the dataset by categories\")\n",
    "ax[0, 0].pie([y1[0],y2[0]], labels = ['I', 'E'])\n",
    "ax[0, 1].pie([y1[1],y2[1]], labels = ['N', 'S'])\n",
    "ax[1, 0].pie([y1[2],y2[2]], labels = ['F', 'T'])\n",
    "ax[1, 1].pie([y1[3],y2[3]], labels = ['P', 'J'])"
   ]
  },
  {
   "cell_type": "markdown",
   "metadata": {},
   "source": [
    "Categories FT and PJ are quite balanced. Accurracy will be adequate.\n",
    "However, types E and S are underrepresented in their respective categories, so f1_score will be better these categories."
   ]
  },
  {
   "cell_type": "markdown",
   "metadata": {},
   "source": [
    "### **Clean Data**"
   ]
  },
  {
   "cell_type": "code",
   "execution_count": 102,
   "metadata": {},
   "outputs": [],
   "source": [
    "stop_words = stopwords.words(\"english\")\n",
    "#create an object of class PorterStemmer\n",
    "porter = PorterStemmer()"
   ]
  },
  {
   "cell_type": "code",
   "execution_count": 103,
   "metadata": {},
   "outputs": [],
   "source": [
    "def cleanData(posts):\n",
    "    # Lowercase\n",
    "    clean_text = posts.lower()\n",
    "    #remove all hyperlinks\n",
    "    clean_text = re.sub(r'(https?:\\/\\/(?:www\\.|(?!www))[a-zA-Z0-9][a-zA-Z0-9-]+[a-zA-Z0-9]\\.[^\\s]{2,}|www\\.[a-zA-Z0-9][a-zA-Z0-9-]+[a-zA-Z0-9]\\.[^\\s]{2,}|https?:\\/\\/(?:www\\.|(?!www))[a-zA-Z0-9]+\\.[^\\s]{2,}|www\\.[a-zA-Z0-9]+\\.[^\\s]{2,})','',clean_text)\n",
    "    word_list = word_tokenize(clean_text)\n",
    "    clean_posts = []\n",
    "    for word in word_list:\n",
    "        if word.isalpha() and word not in stop_words:\n",
    "            word = porter.stem(word)\n",
    "            clean_posts.append(word)\n",
    "    return clean_posts\n"
   ]
  },
  {
   "cell_type": "code",
   "execution_count": 104,
   "metadata": {},
   "outputs": [],
   "source": [
    "df[\"posts_preprocessed\"]= df[\"posts\"].apply(lambda row: cleanData(row))"
   ]
  },
  {
   "cell_type": "markdown",
   "metadata": {},
   "source": [
    "## **Models**"
   ]
  },
  {
   "cell_type": "markdown",
   "metadata": {},
   "source": [
    "### **Vectorization**"
   ]
  },
  {
   "cell_type": "code",
   "execution_count": 105,
   "metadata": {},
   "outputs": [],
   "source": [
    "cv = CountVectorizer()\n",
    "tfidf = TfidfVectorizer()"
   ]
  },
  {
   "cell_type": "code",
   "execution_count": 108,
   "metadata": {},
   "outputs": [],
   "source": [
    "X=df[\"posts_preprocessed\"].map(' '.join)"
   ]
  },
  {
   "cell_type": "code",
   "execution_count": 109,
   "metadata": {},
   "outputs": [],
   "source": [
    "cnt_vector = cv.fit_transform(X)\n",
    "tfidf_vector = tfidf.fit_transform(X)"
   ]
  },
  {
   "cell_type": "code",
   "execution_count": 152,
   "metadata": {},
   "outputs": [],
   "source": [
    "vectors={'cnt_vector':cnt_vector,'tfidf_vector':tfidf_vector}"
   ]
  },
  {
   "cell_type": "code",
   "execution_count": null,
   "metadata": {},
   "outputs": [],
   "source": [
    "X_train_EI,X_test_EI,y_train_EI,y_test_EI = train_test_split(cnt_vector,df[\"target_EI\"],test_size=0.2)\n"
   ]
  },
  {
   "cell_type": "markdown",
   "metadata": {},
   "source": [
    "### **Predictions**"
   ]
  },
  {
   "cell_type": "markdown",
   "metadata": {},
   "source": [
    "We will test the following classifiers for each category:\n",
    " * RandomForestClassifier\n",
    " * MultinomialNB\n",
    " * LinearSVC"
   ]
  },
  {
   "cell_type": "code",
   "execution_count": 117,
   "metadata": {},
   "outputs": [],
   "source": [
    "classifiers = [\n",
    "    RandomForestClassifier(),\n",
    "    MultinomialNB(),\n",
    "    LinearSVC()\n",
    "    ]"
   ]
  },
  {
   "cell_type": "markdown",
   "metadata": {},
   "source": [
    "**EI category**:"
   ]
  },
  {
   "cell_type": "code",
   "execution_count": 159,
   "metadata": {},
   "outputs": [
    {
     "name": "stdout",
     "output_type": "stream",
     "text": [
      "cnt_vector + RandomForestClassifier()\n",
      "              precision    recall  f1-score   support\n",
      "\n",
      "           E       0.00      0.00      0.00       363\n",
      "           I       0.79      1.00      0.88      1372\n",
      "\n",
      "    accuracy                           0.79      1735\n",
      "   macro avg       0.40      0.50      0.44      1735\n",
      "weighted avg       0.63      0.79      0.70      1735\n",
      "\n",
      "cnt_vector + MultinomialNB()\n",
      "              precision    recall  f1-score   support\n",
      "\n",
      "           E       0.61      0.40      0.48       363\n",
      "           I       0.85      0.93      0.89      1372\n",
      "\n",
      "    accuracy                           0.82      1735\n",
      "   macro avg       0.73      0.67      0.69      1735\n",
      "weighted avg       0.80      0.82      0.81      1735\n",
      "\n",
      "cnt_vector + LinearSVC()\n",
      "              precision    recall  f1-score   support\n",
      "\n",
      "           E       0.52      0.60      0.56       363\n",
      "           I       0.89      0.85      0.87      1372\n",
      "\n",
      "    accuracy                           0.80      1735\n",
      "   macro avg       0.70      0.73      0.71      1735\n",
      "weighted avg       0.81      0.80      0.80      1735\n",
      "\n",
      "tfidf_vector + RandomForestClassifier()\n",
      "              precision    recall  f1-score   support\n",
      "\n",
      "           E       0.00      0.00      0.00       400\n",
      "           I       0.77      1.00      0.87      1335\n",
      "\n",
      "    accuracy                           0.77      1735\n",
      "   macro avg       0.38      0.50      0.43      1735\n",
      "weighted avg       0.59      0.77      0.67      1735\n",
      "\n",
      "tfidf_vector + MultinomialNB()\n",
      "              precision    recall  f1-score   support\n",
      "\n",
      "           E       0.00      0.00      0.00       400\n",
      "           I       0.77      1.00      0.87      1335\n",
      "\n",
      "    accuracy                           0.77      1735\n",
      "   macro avg       0.38      0.50      0.43      1735\n",
      "weighted avg       0.59      0.77      0.67      1735\n",
      "\n",
      "tfidf_vector + LinearSVC()\n",
      "              precision    recall  f1-score   support\n",
      "\n",
      "           E       0.73      0.51      0.60       400\n",
      "           I       0.87      0.94      0.90      1335\n",
      "\n",
      "    accuracy                           0.84      1735\n",
      "   macro avg       0.80      0.73      0.75      1735\n",
      "weighted avg       0.83      0.84      0.83      1735\n",
      "\n"
     ]
    }
   ],
   "source": [
    "for i in vectors:\n",
    "    X_train,X_test,y_train,y_test = train_test_split(vectors[i],df[\"target_EI\"],test_size=0.2)\n",
    "    for classifier in classifiers:\n",
    "        model = classifier.fit(X_train, y_train)\n",
    "        predictions=model.predict(X_test)\n",
    "        classification=metrics.classification_report(y_test,predictions,zero_division=0)\n",
    "        print(\"%s + %s\"%(i,classifier))\n",
    "        print(classification)"
   ]
  },
  {
   "cell_type": "markdown",
   "metadata": {},
   "source": [
    "As said before, we have to look at f1-score for EI category. It seems that tfidf_vector() + LinearSVC() fit better the category"
   ]
  },
  {
   "cell_type": "markdown",
   "metadata": {},
   "source": [
    "**NS category:**"
   ]
  },
  {
   "cell_type": "code",
   "execution_count": 160,
   "metadata": {},
   "outputs": [
    {
     "name": "stdout",
     "output_type": "stream",
     "text": [
      "cnt_vector + RandomForestClassifier()\n",
      "              precision    recall  f1-score   support\n",
      "\n",
      "           N       0.86      1.00      0.92      1487\n",
      "           S       0.00      0.00      0.00       248\n",
      "\n",
      "    accuracy                           0.86      1735\n",
      "   macro avg       0.43      0.50      0.46      1735\n",
      "weighted avg       0.73      0.86      0.79      1735\n",
      "\n",
      "cnt_vector + MultinomialNB()\n",
      "              precision    recall  f1-score   support\n",
      "\n",
      "           N       0.87      0.97      0.92      1487\n",
      "           S       0.42      0.14      0.21       248\n",
      "\n",
      "    accuracy                           0.85      1735\n",
      "   macro avg       0.65      0.55      0.56      1735\n",
      "weighted avg       0.81      0.85      0.82      1735\n",
      "\n",
      "cnt_vector + LinearSVC()\n",
      "              precision    recall  f1-score   support\n",
      "\n",
      "           N       0.91      0.93      0.92      1487\n",
      "           S       0.54      0.48      0.50       248\n",
      "\n",
      "    accuracy                           0.87      1735\n",
      "   macro avg       0.73      0.70      0.71      1735\n",
      "weighted avg       0.86      0.87      0.86      1735\n",
      "\n",
      "tfidf_vector + RandomForestClassifier()\n",
      "              precision    recall  f1-score   support\n",
      "\n",
      "           N       0.86      1.00      0.92      1487\n",
      "           S       0.00      0.00      0.00       248\n",
      "\n",
      "    accuracy                           0.86      1735\n",
      "   macro avg       0.43      0.50      0.46      1735\n",
      "weighted avg       0.73      0.86      0.79      1735\n",
      "\n",
      "tfidf_vector + MultinomialNB()\n",
      "              precision    recall  f1-score   support\n",
      "\n",
      "           N       0.86      1.00      0.92      1487\n",
      "           S       0.00      0.00      0.00       248\n",
      "\n",
      "    accuracy                           0.86      1735\n",
      "   macro avg       0.43      0.50      0.46      1735\n",
      "weighted avg       0.73      0.86      0.79      1735\n",
      "\n",
      "tfidf_vector + LinearSVC()\n",
      "              precision    recall  f1-score   support\n",
      "\n",
      "           N       0.90      0.98      0.94      1487\n",
      "           S       0.76      0.36      0.49       248\n",
      "\n",
      "    accuracy                           0.89      1735\n",
      "   macro avg       0.83      0.67      0.72      1735\n",
      "weighted avg       0.88      0.89      0.88      1735\n",
      "\n"
     ]
    }
   ],
   "source": [
    "for i in vectors:\n",
    "    X_train,X_test,y_train,y_test = train_test_split(vectors[i],df[\"target_NS\"],test_size=0.2)\n",
    "    for classifier in classifiers:\n",
    "        model = classifier.fit(X_train, y_train)\n",
    "        predictions=model.predict(X_test)\n",
    "        classification=metrics.classification_report(y_test,predictions,zero_division=0)\n",
    "        print(\"%s + %s\"%(i,classifier))\n",
    "        print(classification)"
   ]
  },
  {
   "cell_type": "markdown",
   "metadata": {},
   "source": [
    "As said before, we have to look at f1-score for NS category. It seems that tfidf_vector()/CountVectorizer() + LinearSVC() fit better the category"
   ]
  },
  {
   "cell_type": "markdown",
   "metadata": {},
   "source": [
    "**TF category:**"
   ]
  },
  {
   "cell_type": "code",
   "execution_count": 161,
   "metadata": {},
   "outputs": [
    {
     "name": "stdout",
     "output_type": "stream",
     "text": [
      "cnt_vector + RandomForestClassifier()\n",
      "              precision    recall  f1-score   support\n",
      "\n",
      "           F       0.71      0.91      0.79       920\n",
      "           T       0.85      0.57      0.68       815\n",
      "\n",
      "    accuracy                           0.75      1735\n",
      "   macro avg       0.78      0.74      0.74      1735\n",
      "weighted avg       0.77      0.75      0.74      1735\n",
      "\n",
      "cnt_vector + MultinomialNB()\n",
      "              precision    recall  f1-score   support\n",
      "\n",
      "           F       0.80      0.86      0.83       920\n",
      "           T       0.83      0.76      0.79       815\n",
      "\n",
      "    accuracy                           0.81      1735\n",
      "   macro avg       0.81      0.81      0.81      1735\n",
      "weighted avg       0.81      0.81      0.81      1735\n",
      "\n",
      "cnt_vector + LinearSVC()\n",
      "              precision    recall  f1-score   support\n",
      "\n",
      "           F       0.79      0.80      0.79       920\n",
      "           T       0.77      0.76      0.77       815\n",
      "\n",
      "    accuracy                           0.78      1735\n",
      "   macro avg       0.78      0.78      0.78      1735\n",
      "weighted avg       0.78      0.78      0.78      1735\n",
      "\n",
      "tfidf_vector + RandomForestClassifier()\n",
      "              precision    recall  f1-score   support\n",
      "\n",
      "           F       0.69      0.89      0.78       911\n",
      "           T       0.83      0.56      0.67       824\n",
      "\n",
      "    accuracy                           0.74      1735\n",
      "   macro avg       0.76      0.73      0.73      1735\n",
      "weighted avg       0.76      0.74      0.73      1735\n",
      "\n",
      "tfidf_vector + MultinomialNB()\n",
      "              precision    recall  f1-score   support\n",
      "\n",
      "           F       0.54      1.00      0.70       911\n",
      "           T       0.93      0.07      0.12       824\n",
      "\n",
      "    accuracy                           0.55      1735\n",
      "   macro avg       0.74      0.53      0.41      1735\n",
      "weighted avg       0.73      0.55      0.43      1735\n",
      "\n",
      "tfidf_vector + LinearSVC()\n",
      "              precision    recall  f1-score   support\n",
      "\n",
      "           F       0.84      0.86      0.85       911\n",
      "           T       0.84      0.82      0.83       824\n",
      "\n",
      "    accuracy                           0.84      1735\n",
      "   macro avg       0.84      0.84      0.84      1735\n",
      "weighted avg       0.84      0.84      0.84      1735\n",
      "\n"
     ]
    }
   ],
   "source": [
    "for i in vectors:\n",
    "    X_train,X_test,y_train,y_test = train_test_split(vectors[i],df[\"target_TF\"],test_size=0.2)\n",
    "    for classifier in classifiers:\n",
    "        model = classifier.fit(X_train, y_train)\n",
    "        predictions=model.predict(X_test)\n",
    "        classification=metrics.classification_report(y_test,predictions,zero_division=0)\n",
    "        print(\"%s + %s\"%(i,classifier))\n",
    "        print(classification)\n",
    "        \n"
   ]
  },
  {
   "cell_type": "markdown",
   "metadata": {},
   "source": [
    "As said before, we have to look at precision for FT category. It seems that tfidf_vector() + LinearSVC() fit better the category"
   ]
  },
  {
   "cell_type": "markdown",
   "metadata": {},
   "source": [
    "**PJ category:**"
   ]
  },
  {
   "cell_type": "code",
   "execution_count": 162,
   "metadata": {},
   "outputs": [
    {
     "name": "stdout",
     "output_type": "stream",
     "text": [
      "cnt_vector + RandomForestClassifier()\n",
      "              precision    recall  f1-score   support\n",
      "\n",
      "           J       0.71      0.13      0.22       709\n",
      "           P       0.62      0.96      0.75      1026\n",
      "\n",
      "    accuracy                           0.62      1735\n",
      "   macro avg       0.66      0.55      0.48      1735\n",
      "weighted avg       0.65      0.62      0.53      1735\n",
      "\n",
      "cnt_vector + MultinomialNB()\n",
      "              precision    recall  f1-score   support\n",
      "\n",
      "           J       0.70      0.57      0.63       709\n",
      "           P       0.74      0.83      0.78      1026\n",
      "\n",
      "    accuracy                           0.72      1735\n",
      "   macro avg       0.72      0.70      0.70      1735\n",
      "weighted avg       0.72      0.72      0.72      1735\n",
      "\n"
     ]
    },
    {
     "name": "stderr",
     "output_type": "stream",
     "text": [
      "/Users/pierremecchia/anaconda3/lib/python3.7/site-packages/sklearn/svm/_base.py:977: ConvergenceWarning: Liblinear failed to converge, increase the number of iterations.\n",
      "  \"the number of iterations.\", ConvergenceWarning)\n"
     ]
    },
    {
     "name": "stdout",
     "output_type": "stream",
     "text": [
      "cnt_vector + LinearSVC()\n",
      "              precision    recall  f1-score   support\n",
      "\n",
      "           J       0.68      0.62      0.65       709\n",
      "           P       0.75      0.80      0.78      1026\n",
      "\n",
      "    accuracy                           0.73      1735\n",
      "   macro avg       0.72      0.71      0.71      1735\n",
      "weighted avg       0.72      0.73      0.72      1735\n",
      "\n",
      "tfidf_vector + RandomForestClassifier()\n",
      "              precision    recall  f1-score   support\n",
      "\n",
      "           J       0.80      0.16      0.26       696\n",
      "           P       0.63      0.97      0.77      1039\n",
      "\n",
      "    accuracy                           0.65      1735\n",
      "   macro avg       0.72      0.57      0.51      1735\n",
      "weighted avg       0.70      0.65      0.56      1735\n",
      "\n",
      "tfidf_vector + MultinomialNB()\n",
      "              precision    recall  f1-score   support\n",
      "\n",
      "           J       0.00      0.00      0.00       696\n",
      "           P       0.60      1.00      0.75      1039\n",
      "\n",
      "    accuracy                           0.60      1735\n",
      "   macro avg       0.30      0.50      0.37      1735\n",
      "weighted avg       0.36      0.60      0.45      1735\n",
      "\n",
      "tfidf_vector + LinearSVC()\n",
      "              precision    recall  f1-score   support\n",
      "\n",
      "           J       0.78      0.68      0.73       696\n",
      "           P       0.80      0.87      0.84      1039\n",
      "\n",
      "    accuracy                           0.79      1735\n",
      "   macro avg       0.79      0.78      0.78      1735\n",
      "weighted avg       0.79      0.79      0.79      1735\n",
      "\n"
     ]
    }
   ],
   "source": [
    "for i in vectors:\n",
    "    X_train,X_test,y_train,y_test = train_test_split(vectors[i],df[\"target_PJ\"],test_size=0.2)\n",
    "    for classifier in classifiers:\n",
    "        model = classifier.fit(X_train, y_train)\n",
    "        predictions=model.predict(X_test)\n",
    "        classification=metrics.classification_report(y_test,predictions,zero_division=0)\n",
    "        print(\"%s + %s\"%(i,classifier))\n",
    "        print(classification)"
   ]
  },
  {
   "cell_type": "markdown",
   "metadata": {},
   "source": [
    "As said before, we have to look at precision for JP category. It seems that tfidf_vector() + LinearSVC() fit better the category"
   ]
  },
  {
   "cell_type": "markdown",
   "metadata": {},
   "source": [
    "## **Conclusion**"
   ]
  },
  {
   "cell_type": "markdown",
   "metadata": {},
   "source": [
    "tfidf_vector() + LinearSVC() is the model we will use to predict each category"
   ]
  },
  {
   "cell_type": "code",
   "execution_count": null,
   "metadata": {},
   "outputs": [],
   "source": []
  }
 ],
 "metadata": {
  "kernelspec": {
   "display_name": "Python 3",
   "language": "python",
   "name": "python3"
  },
  "language_info": {
   "codemirror_mode": {
    "name": "ipython",
    "version": 3
   },
   "file_extension": ".py",
   "mimetype": "text/x-python",
   "name": "python",
   "nbconvert_exporter": "python",
   "pygments_lexer": "ipython3",
   "version": "3.7.1"
  }
 },
 "nbformat": 4,
 "nbformat_minor": 2
}
