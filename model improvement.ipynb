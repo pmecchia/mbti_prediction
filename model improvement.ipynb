{
 "cells": [
  {
   "cell_type": "markdown",
   "metadata": {},
   "source": [
    "## **Libraries**"
   ]
  },
  {
   "cell_type": "code",
   "execution_count": 221,
   "metadata": {},
   "outputs": [],
   "source": [
    "import pandas as pd\n",
    "import matplotlib.pyplot as plt\n",
    "import re\n",
    "import nltk\n",
    "import numpy as np\n",
    "from nltk import word_tokenize\n",
    "from nltk.corpus import stopwords\n",
    "from nltk.stem import PorterStemmer\n",
    "\n",
    "from sklearn.pipeline import Pipeline\n",
    "from sklearn.model_selection import train_test_split\n",
    "from sklearn.feature_extraction.text import CountVectorizer\n",
    "from sklearn.feature_extraction.text import TfidfVectorizer\n",
    "from sklearn.naive_bayes import MultinomialNB\n",
    "from sklearn import metrics\n",
    "from sklearn.svm import LinearSVC\n",
    "from sklearn.ensemble import RandomForestClassifier\n",
    "from sklearn.linear_model import LogisticRegression\n",
    "from sklearn.naive_bayes import GaussianNB"
   ]
  },
  {
   "cell_type": "markdown",
   "metadata": {},
   "source": [
    "## **Import Dataset**"
   ]
  },
  {
   "cell_type": "code",
   "execution_count": 3,
   "metadata": {},
   "outputs": [],
   "source": [
    "df=pd.read_csv(\"mbti_dataset.csv\")"
   ]
  },
  {
   "cell_type": "code",
   "execution_count": 4,
   "metadata": {},
   "outputs": [
    {
     "data": {
      "text/html": [
       "<div>\n",
       "<style scoped>\n",
       "    .dataframe tbody tr th:only-of-type {\n",
       "        vertical-align: middle;\n",
       "    }\n",
       "\n",
       "    .dataframe tbody tr th {\n",
       "        vertical-align: top;\n",
       "    }\n",
       "\n",
       "    .dataframe thead th {\n",
       "        text-align: right;\n",
       "    }\n",
       "</style>\n",
       "<table border=\"1\" class=\"dataframe\">\n",
       "  <thead>\n",
       "    <tr style=\"text-align: right;\">\n",
       "      <th></th>\n",
       "      <th>type</th>\n",
       "      <th>posts</th>\n",
       "    </tr>\n",
       "  </thead>\n",
       "  <tbody>\n",
       "    <tr>\n",
       "      <th>0</th>\n",
       "      <td>INFJ</td>\n",
       "      <td>'http://www.youtube.com/watch?v=qsXHcwe3krw|||...</td>\n",
       "    </tr>\n",
       "    <tr>\n",
       "      <th>1</th>\n",
       "      <td>ENTP</td>\n",
       "      <td>'I'm finding the lack of me in these posts ver...</td>\n",
       "    </tr>\n",
       "    <tr>\n",
       "      <th>2</th>\n",
       "      <td>INTP</td>\n",
       "      <td>'Good one  _____   https://www.youtube.com/wat...</td>\n",
       "    </tr>\n",
       "    <tr>\n",
       "      <th>3</th>\n",
       "      <td>INTJ</td>\n",
       "      <td>'Dear INTP,   I enjoyed our conversation the o...</td>\n",
       "    </tr>\n",
       "    <tr>\n",
       "      <th>4</th>\n",
       "      <td>ENTJ</td>\n",
       "      <td>'You're fired.|||That's another silly misconce...</td>\n",
       "    </tr>\n",
       "  </tbody>\n",
       "</table>\n",
       "</div>"
      ],
      "text/plain": [
       "   type                                              posts\n",
       "0  INFJ  'http://www.youtube.com/watch?v=qsXHcwe3krw|||...\n",
       "1  ENTP  'I'm finding the lack of me in these posts ver...\n",
       "2  INTP  'Good one  _____   https://www.youtube.com/wat...\n",
       "3  INTJ  'Dear INTP,   I enjoyed our conversation the o...\n",
       "4  ENTJ  'You're fired.|||That's another silly misconce..."
      ]
     },
     "execution_count": 4,
     "metadata": {},
     "output_type": "execute_result"
    }
   ],
   "source": [
    "df.head()"
   ]
  },
  {
   "cell_type": "markdown",
   "metadata": {},
   "source": [
    "## **Preprocessing data**"
   ]
  },
  {
   "cell_type": "code",
   "execution_count": 22,
   "metadata": {},
   "outputs": [],
   "source": [
    "df[\"target_EI\"]=df[\"type\"].apply(lambda row: row[0])\n",
    "df[\"target_NS\"]=df[\"type\"].apply(lambda row: row[1])\n",
    "df[\"target_TF\"]=df[\"type\"].apply(lambda row: row[2])\n",
    "df[\"target_PJ\"]=df[\"type\"].apply(lambda row: row[3])"
   ]
  },
  {
   "cell_type": "code",
   "execution_count": 23,
   "metadata": {},
   "outputs": [
    {
     "data": {
      "text/html": [
       "<div>\n",
       "<style scoped>\n",
       "    .dataframe tbody tr th:only-of-type {\n",
       "        vertical-align: middle;\n",
       "    }\n",
       "\n",
       "    .dataframe tbody tr th {\n",
       "        vertical-align: top;\n",
       "    }\n",
       "\n",
       "    .dataframe thead th {\n",
       "        text-align: right;\n",
       "    }\n",
       "</style>\n",
       "<table border=\"1\" class=\"dataframe\">\n",
       "  <thead>\n",
       "    <tr style=\"text-align: right;\">\n",
       "      <th></th>\n",
       "      <th>type</th>\n",
       "      <th>posts</th>\n",
       "      <th>target_EI</th>\n",
       "      <th>target_NS</th>\n",
       "      <th>target_TF</th>\n",
       "      <th>target_PJ</th>\n",
       "    </tr>\n",
       "  </thead>\n",
       "  <tbody>\n",
       "    <tr>\n",
       "      <th>0</th>\n",
       "      <td>INFJ</td>\n",
       "      <td>'http://www.youtube.com/watch?v=qsXHcwe3krw|||...</td>\n",
       "      <td>I</td>\n",
       "      <td>N</td>\n",
       "      <td>F</td>\n",
       "      <td>J</td>\n",
       "    </tr>\n",
       "    <tr>\n",
       "      <th>1</th>\n",
       "      <td>ENTP</td>\n",
       "      <td>'I'm finding the lack of me in these posts ver...</td>\n",
       "      <td>E</td>\n",
       "      <td>N</td>\n",
       "      <td>T</td>\n",
       "      <td>P</td>\n",
       "    </tr>\n",
       "    <tr>\n",
       "      <th>2</th>\n",
       "      <td>INTP</td>\n",
       "      <td>'Good one  _____   https://www.youtube.com/wat...</td>\n",
       "      <td>I</td>\n",
       "      <td>N</td>\n",
       "      <td>T</td>\n",
       "      <td>P</td>\n",
       "    </tr>\n",
       "    <tr>\n",
       "      <th>3</th>\n",
       "      <td>INTJ</td>\n",
       "      <td>'Dear INTP,   I enjoyed our conversation the o...</td>\n",
       "      <td>I</td>\n",
       "      <td>N</td>\n",
       "      <td>T</td>\n",
       "      <td>J</td>\n",
       "    </tr>\n",
       "    <tr>\n",
       "      <th>4</th>\n",
       "      <td>ENTJ</td>\n",
       "      <td>'You're fired.|||That's another silly misconce...</td>\n",
       "      <td>E</td>\n",
       "      <td>N</td>\n",
       "      <td>T</td>\n",
       "      <td>J</td>\n",
       "    </tr>\n",
       "  </tbody>\n",
       "</table>\n",
       "</div>"
      ],
      "text/plain": [
       "   type                                              posts target_EI  \\\n",
       "0  INFJ  'http://www.youtube.com/watch?v=qsXHcwe3krw|||...         I   \n",
       "1  ENTP  'I'm finding the lack of me in these posts ver...         E   \n",
       "2  INTP  'Good one  _____   https://www.youtube.com/wat...         I   \n",
       "3  INTJ  'Dear INTP,   I enjoyed our conversation the o...         I   \n",
       "4  ENTJ  'You're fired.|||That's another silly misconce...         E   \n",
       "\n",
       "  target_NS target_TF target_PJ  \n",
       "0         N         F         J  \n",
       "1         N         T         P  \n",
       "2         N         T         P  \n",
       "3         N         T         J  \n",
       "4         N         T         J  "
      ]
     },
     "execution_count": 23,
     "metadata": {},
     "output_type": "execute_result"
    }
   ],
   "source": [
    "df.head()"
   ]
  },
  {
   "cell_type": "code",
   "execution_count": 57,
   "metadata": {},
   "outputs": [],
   "source": [
    "y1=[]\n",
    "y2=[]\n",
    "barWidth = 0.4\n",
    "r1 = range(len(y1))\n",
    "r2 = [x + barWidth for x in r1]"
   ]
  },
  {
   "cell_type": "code",
   "execution_count": 58,
   "metadata": {},
   "outputs": [],
   "source": [
    "y1.append(df[\"target_EI\"].value_counts()[0])\n",
    "y2.append(df[\"target_EI\"].value_counts()[1])"
   ]
  },
  {
   "cell_type": "code",
   "execution_count": 59,
   "metadata": {},
   "outputs": [],
   "source": [
    "y1.append(df[\"target_NS\"].value_counts()[0])\n",
    "y2.append(df[\"target_NS\"].value_counts()[1])"
   ]
  },
  {
   "cell_type": "code",
   "execution_count": 60,
   "metadata": {},
   "outputs": [],
   "source": [
    "y1.append(df[\"target_TF\"].value_counts()[0])\n",
    "y2.append(df[\"target_TF\"].value_counts()[1])"
   ]
  },
  {
   "cell_type": "code",
   "execution_count": 61,
   "metadata": {},
   "outputs": [],
   "source": [
    "y1.append(df[\"target_PJ\"].value_counts()[0])\n",
    "y2.append(df[\"target_PJ\"].value_counts()[1])"
   ]
  },
  {
   "cell_type": "code",
   "execution_count": 165,
   "metadata": {},
   "outputs": [
    {
     "data": {
      "text/plain": [
       "Text(0.5, 1.0, 'Category P/J')"
      ]
     },
     "execution_count": 165,
     "metadata": {},
     "output_type": "execute_result"
    },
    {
     "data": {
      "image/png": "[encoded data removed]",
      "text/plain": [
       "<Figure size 504x504 with 4 Axes>"
      ]
     },
     "metadata": {},
     "output_type": "display_data"
    }
   ],
   "source": [
    "fig,ax = plt.subplots(2,2,figsize=(7,7))\n",
    "fig.suptitle(\"Types' distributions by categories\")\n",
    "ax[0, 0].pie([y1[0],y2[0]], labels = ['I', 'E'],autopct='%1.1f%%')\n",
    "ax[0, 0].set_title('Category I/E')\n",
    "ax[0, 1].pie([y1[1],y2[1]], labels = ['N', 'S'],autopct='%1.1f%%')\n",
    "ax[0, 1].set_title('Category N/S')\n",
    "ax[1, 0].pie([y1[2],y2[2]], labels = ['F', 'T'],autopct='%1.1f%%')\n",
    "ax[1, 0].set_title('Category F/T')\n",
    "ax[1, 1].pie([y1[3],y2[3]], labels = ['P', 'J'],autopct='%1.1f%%')\n",
    "ax[1, 1].set_title('Category P/J')"
   ]
  },
  {
   "cell_type": "markdown",
   "metadata": {},
   "source": [
    "Categories FT and PJ are quite balanced. Accurracy will be adequate.\n",
    "However, types E and S are underrepresented in their respective categories, so f1_score will be better these categories."
   ]
  },
  {
   "cell_type": "markdown",
   "metadata": {},
   "source": [
    "### **Clean Data**"
   ]
  },
  {
   "cell_type": "code",
   "execution_count": 102,
   "metadata": {},
   "outputs": [],
   "source": [
    "stop_words = stopwords.words(\"english\")\n",
    "#create an object of class PorterStemmer\n",
    "porter = PorterStemmer()"
   ]
  },
  {
   "cell_type": "code",
   "execution_count": 103,
   "metadata": {},
   "outputs": [],
   "source": [
    "def cleanData(posts):\n",
    "    # Lowercase\n",
    "    clean_text = posts.lower()\n",
    "    #remove all hyperlinks\n",
    "    clean_text = re.sub(r'(https?:\\/\\/(?:www\\.|(?!www))[a-zA-Z0-9][a-zA-Z0-9-]+[a-zA-Z0-9]\\.[^\\s]{2,}|www\\.[a-zA-Z0-9][a-zA-Z0-9-]+[a-zA-Z0-9]\\.[^\\s]{2,}|https?:\\/\\/(?:www\\.|(?!www))[a-zA-Z0-9]+\\.[^\\s]{2,}|www\\.[a-zA-Z0-9]+\\.[^\\s]{2,})','',clean_text)\n",
    "    word_list = word_tokenize(clean_text)\n",
    "    clean_posts = []\n",
    "    for word in word_list:\n",
    "        if word.isalpha() and word not in stop_words:\n",
    "            word = porter.stem(word)\n",
    "            clean_posts.append(word)\n",
    "    return clean_posts\n"
   ]
  },
  {
   "cell_type": "code",
   "execution_count": 104,
   "metadata": {},
   "outputs": [],
   "source": [
    "df[\"posts_preprocessed\"]= df[\"posts\"].apply(lambda row: cleanData(row))"
   ]
  },
  {
   "cell_type": "markdown",
   "metadata": {},
   "source": [
    "## **Models**"
   ]
  },
  {
   "cell_type": "markdown",
   "metadata": {},
   "source": [
    "### **Vectorization**"
   ]
  },
  {
   "cell_type": "code",
   "execution_count": 309,
   "metadata": {},
   "outputs": [],
   "source": [
    "cv = CountVectorizer()\n",
    "tfidf = TfidfVectorizer()"
   ]
  },
  {
   "cell_type": "code",
   "execution_count": 310,
   "metadata": {},
   "outputs": [],
   "source": [
    "X=df[\"posts_preprocessed\"].map(' '.join)"
   ]
  },
  {
   "cell_type": "code",
   "execution_count": 109,
   "metadata": {},
   "outputs": [],
   "source": [
    "cnt_vector = cv.fit_transform(X)\n",
    "tfidf_vector = tfidf.fit_transform(X)"
   ]
  },
  {
   "cell_type": "code",
   "execution_count": 152,
   "metadata": {},
   "outputs": [],
   "source": [
    "vectors={'cnt_vector':cnt_vector,'tfidf_vector':tfidf_vector}"
   ]
  },
  {
   "cell_type": "code",
   "execution_count": null,
   "metadata": {},
   "outputs": [],
   "source": [
    "X_train_EI,X_test_EI,y_train_EI,y_test_EI = train_test_split(cnt_vector,df[\"target_EI\"],test_size=0.2)\n"
   ]
  },
  {
   "cell_type": "markdown",
   "metadata": {},
   "source": [
    "### **Predictions**"
   ]
  },
  {
   "cell_type": "markdown",
   "metadata": {},
   "source": [
    "We will test the following classifiers for each category:\n",
    " * RandomForestClassifier\n",
    " * GaussianNb\n",
    " * MultinomialNB\n",
    " * LinearSVC\n",
    " * LogisticRegression"
   ]
  },
  {
   "cell_type": "code",
   "execution_count": 230,
   "metadata": {},
   "outputs": [],
   "source": [
    "classifiers = [\n",
    "    RandomForestClassifier(),\n",
    "    GaussianNB(),\n",
    "    MultinomialNB(),\n",
    "    LinearSVC(dual=False),\n",
    "    LogisticRegression(max_iter=1000,solver='liblinear')\n",
    "    ]"
   ]
  },
  {
   "cell_type": "markdown",
   "metadata": {},
   "source": [
    "**EI category**:"
   ]
  },
  {
   "cell_type": "code",
   "execution_count": 236,
   "metadata": {},
   "outputs": [
    {
     "name": "stdout",
     "output_type": "stream",
     "text": [
      "cnt_vector+RandomForestClassifier()\n",
      "              precision    recall  f1-score   support\n",
      "\n",
      "           E       0.00      0.00      0.00       393\n",
      "           I       0.77      1.00      0.87      1342\n",
      "\n",
      "    accuracy                           0.77      1735\n",
      "   macro avg       0.39      0.50      0.44      1735\n",
      "weighted avg       0.60      0.77      0.67      1735\n",
      "\n",
      "cnt_vector+GaussianNB()\n",
      "              precision    recall  f1-score   support\n",
      "\n",
      "           E       0.25      0.11      0.16       393\n",
      "           I       0.78      0.90      0.83      1342\n",
      "\n",
      "    accuracy                           0.72      1735\n",
      "   macro avg       0.51      0.51      0.49      1735\n",
      "weighted avg       0.66      0.72      0.68      1735\n",
      "\n",
      "cnt_vector+MultinomialNB()\n",
      "              precision    recall  f1-score   support\n",
      "\n",
      "           E       0.59      0.31      0.41       393\n",
      "           I       0.82      0.94      0.88      1342\n",
      "\n",
      "    accuracy                           0.79      1735\n",
      "   macro avg       0.70      0.62      0.64      1735\n",
      "weighted avg       0.77      0.79      0.77      1735\n",
      "\n",
      "cnt_vector+LinearSVC(dual=False)\n",
      "              precision    recall  f1-score   support\n",
      "\n",
      "           E       0.58      0.54      0.56       393\n",
      "           I       0.87      0.89      0.88      1342\n",
      "\n",
      "    accuracy                           0.81      1735\n",
      "   macro avg       0.73      0.71      0.72      1735\n",
      "weighted avg       0.80      0.81      0.81      1735\n",
      "\n",
      "cnt_vector+LogisticRegression(max_iter=1000, solver='liblinear')\n",
      "              precision    recall  f1-score   support\n",
      "\n",
      "           E       0.61      0.53      0.57       393\n",
      "           I       0.87      0.90      0.88      1342\n",
      "\n",
      "    accuracy                           0.82      1735\n",
      "   macro avg       0.74      0.71      0.73      1735\n",
      "weighted avg       0.81      0.82      0.81      1735\n",
      "\n",
      "tfidf_vector+RandomForestClassifier()\n",
      "              precision    recall  f1-score   support\n",
      "\n",
      "           E       0.00      0.00      0.00       372\n",
      "           I       0.79      1.00      0.88      1363\n",
      "\n",
      "    accuracy                           0.79      1735\n",
      "   macro avg       0.39      0.50      0.44      1735\n",
      "weighted avg       0.62      0.79      0.69      1735\n",
      "\n",
      "tfidf_vector+GaussianNB()\n",
      "              precision    recall  f1-score   support\n",
      "\n",
      "           E       0.26      0.13      0.17       372\n",
      "           I       0.79      0.90      0.84      1363\n",
      "\n",
      "    accuracy                           0.74      1735\n",
      "   macro avg       0.53      0.52      0.51      1735\n",
      "weighted avg       0.68      0.74      0.70      1735\n",
      "\n",
      "tfidf_vector+MultinomialNB()\n",
      "              precision    recall  f1-score   support\n",
      "\n",
      "           E       0.00      0.00      0.00       372\n",
      "           I       0.79      1.00      0.88      1363\n",
      "\n",
      "    accuracy                           0.79      1735\n",
      "   macro avg       0.39      0.50      0.44      1735\n",
      "weighted avg       0.62      0.79      0.69      1735\n",
      "\n",
      "tfidf_vector+LinearSVC(dual=False)\n",
      "              precision    recall  f1-score   support\n",
      "\n",
      "           E       0.69      0.48      0.57       372\n",
      "           I       0.87      0.94      0.90      1363\n",
      "\n",
      "    accuracy                           0.84      1735\n",
      "   macro avg       0.78      0.71      0.74      1735\n",
      "weighted avg       0.83      0.84      0.83      1735\n",
      "\n",
      "tfidf_vector+LogisticRegression(max_iter=1000, solver='liblinear')\n",
      "              precision    recall  f1-score   support\n",
      "\n",
      "           E       0.75      0.33      0.46       372\n",
      "           I       0.84      0.97      0.90      1363\n",
      "\n",
      "    accuracy                           0.83      1735\n",
      "   macro avg       0.80      0.65      0.68      1735\n",
      "weighted avg       0.82      0.83      0.81      1735\n",
      "\n"
     ]
    }
   ],
   "source": [
    "\n",
    "EI_f1_scores={}\n",
    "for i in vectors:\n",
    "    X_train,X_test,y_train,y_test = train_test_split(vectors[i],df[\"target_EI\"],test_size=0.2)\n",
    "    for classifier in classifiers:\n",
    "        if str(classifier) == \"GaussianNB()\":\n",
    "            X_train=X_train.todense()\n",
    "            X_test=X_test.todense()\n",
    "        model = classifier.fit(X_train, y_train)\n",
    "        predictions=model.predict(X_test)\n",
    "        f1=metrics.f1_score(y_test,predictions,zero_division=0,average='macro')\n",
    "        classification=metrics.classification_report(y_test,predictions,zero_division=0)\n",
    "        model_name = i +\"+\"+str(classifier)\n",
    "        model_name_clean = re.sub(r'\\([^)]*\\)', '', model_name) #delete text within parentheses\n",
    "        EI_f1_scores[model_name_clean]=f1\n",
    "        print(model_name)\n",
    "        print(classification)\n"
   ]
  },
  {
   "cell_type": "markdown",
   "metadata": {},
   "source": [
    "**NS category:**"
   ]
  },
  {
   "cell_type": "code",
   "execution_count": 240,
   "metadata": {},
   "outputs": [
    {
     "name": "stdout",
     "output_type": "stream",
     "text": [
      "cnt_vector+RandomForestClassifier()\n",
      "              precision    recall  f1-score   support\n",
      "\n",
      "           N       0.86      1.00      0.92      1484\n",
      "           S       0.00      0.00      0.00       251\n",
      "\n",
      "    accuracy                           0.86      1735\n",
      "   macro avg       0.43      0.50      0.46      1735\n",
      "weighted avg       0.73      0.86      0.79      1735\n",
      "\n",
      "cnt_vector+GaussianNB()\n",
      "              precision    recall  f1-score   support\n",
      "\n",
      "           N       0.86      0.98      0.92      1484\n",
      "           S       0.26      0.04      0.07       251\n",
      "\n",
      "    accuracy                           0.84      1735\n",
      "   macro avg       0.56      0.51      0.49      1735\n",
      "weighted avg       0.77      0.84      0.79      1735\n",
      "\n",
      "cnt_vector+MultinomialNB()\n",
      "              precision    recall  f1-score   support\n",
      "\n",
      "           N       0.87      0.97      0.92      1484\n",
      "           S       0.43      0.14      0.21       251\n",
      "\n",
      "    accuracy                           0.85      1735\n",
      "   macro avg       0.65      0.55      0.56      1735\n",
      "weighted avg       0.81      0.85      0.81      1735\n",
      "\n",
      "cnt_vector+LinearSVC(dual=False)\n",
      "              precision    recall  f1-score   support\n",
      "\n",
      "           N       0.91      0.94      0.92      1484\n",
      "           S       0.56      0.47      0.51       251\n",
      "\n",
      "    accuracy                           0.87      1735\n",
      "   macro avg       0.73      0.70      0.72      1735\n",
      "weighted avg       0.86      0.87      0.86      1735\n",
      "\n",
      "cnt_vector+LogisticRegression(max_iter=1000, solver='liblinear')\n",
      "              precision    recall  f1-score   support\n",
      "\n",
      "           N       0.91      0.95      0.93      1484\n",
      "           S       0.61      0.46      0.52       251\n",
      "\n",
      "    accuracy                           0.88      1735\n",
      "   macro avg       0.76      0.70      0.73      1735\n",
      "weighted avg       0.87      0.88      0.87      1735\n",
      "\n",
      "tfidf_vector+RandomForestClassifier()\n",
      "              precision    recall  f1-score   support\n",
      "\n",
      "           N       0.86      1.00      0.92      1489\n",
      "           S       0.00      0.00      0.00       246\n",
      "\n",
      "    accuracy                           0.86      1735\n",
      "   macro avg       0.43      0.50      0.46      1735\n",
      "weighted avg       0.74      0.86      0.79      1735\n",
      "\n",
      "tfidf_vector+GaussianNB()\n",
      "              precision    recall  f1-score   support\n",
      "\n",
      "           N       0.86      0.98      0.91      1489\n",
      "           S       0.18      0.03      0.05       246\n",
      "\n",
      "    accuracy                           0.84      1735\n",
      "   macro avg       0.52      0.50      0.48      1735\n",
      "weighted avg       0.76      0.84      0.79      1735\n",
      "\n",
      "tfidf_vector+MultinomialNB()\n",
      "              precision    recall  f1-score   support\n",
      "\n",
      "           N       0.86      1.00      0.92      1489\n",
      "           S       0.00      0.00      0.00       246\n",
      "\n",
      "    accuracy                           0.86      1735\n",
      "   macro avg       0.43      0.50      0.46      1735\n",
      "weighted avg       0.74      0.86      0.79      1735\n",
      "\n",
      "tfidf_vector+LinearSVC(dual=False)\n",
      "              precision    recall  f1-score   support\n",
      "\n",
      "           N       0.90      0.98      0.94      1489\n",
      "           S       0.76      0.35      0.47       246\n",
      "\n",
      "    accuracy                           0.89      1735\n",
      "   macro avg       0.83      0.66      0.71      1735\n",
      "weighted avg       0.88      0.89      0.87      1735\n",
      "\n",
      "tfidf_vector+LogisticRegression(max_iter=1000, solver='liblinear')\n",
      "              precision    recall  f1-score   support\n",
      "\n",
      "           N       0.88      0.99      0.93      1489\n",
      "           S       0.76      0.15      0.25       246\n",
      "\n",
      "    accuracy                           0.87      1735\n",
      "   macro avg       0.82      0.57      0.59      1735\n",
      "weighted avg       0.86      0.87      0.83      1735\n",
      "\n"
     ]
    }
   ],
   "source": [
    "NS_f1_scores ={}\n",
    "for i in vectors:\n",
    "    X_train,X_test,y_train,y_test = train_test_split(vectors[i],df[\"target_NS\"],test_size=0.2)\n",
    "    for classifier in classifiers:\n",
    "        if str(classifier) == \"GaussianNB()\":\n",
    "            X_train=X_train.todense()\n",
    "            X_test=X_test.todense()\n",
    "        model = classifier.fit(X_train, y_train)\n",
    "        predictions=model.predict(X_test)\n",
    "        f1=metrics.f1_score(y_test,predictions,zero_division=0,average='macro')\n",
    "        classification=metrics.classification_report(y_test,predictions,zero_division=0)\n",
    "        model_name = i +\"+\"+str(classifier)\n",
    "        model_name_clean = re.sub(r'\\([^)]*\\)', '', model_name) #delete text within parentheses\n",
    "        NS_f1_scores[model_name_clean]=f1\n",
    "        print(model_name)\n",
    "        print(classification)"
   ]
  },
  {
   "cell_type": "markdown",
   "metadata": {},
   "source": [
    "**TF category:**"
   ]
  },
  {
   "cell_type": "code",
   "execution_count": 242,
   "metadata": {},
   "outputs": [
    {
     "name": "stdout",
     "output_type": "stream",
     "text": [
      "cnt_vector+RandomForestClassifier()\n",
      "              precision    recall  f1-score   support\n",
      "\n",
      "           F       0.70      0.89      0.78       924\n",
      "           T       0.82      0.57      0.67       811\n",
      "\n",
      "    accuracy                           0.74      1735\n",
      "   macro avg       0.76      0.73      0.73      1735\n",
      "weighted avg       0.75      0.74      0.73      1735\n",
      "\n",
      "cnt_vector+GaussianNB()\n",
      "              precision    recall  f1-score   support\n",
      "\n",
      "           F       0.61      0.54      0.57       924\n",
      "           T       0.54      0.61      0.57       811\n",
      "\n",
      "    accuracy                           0.57      1735\n",
      "   macro avg       0.58      0.58      0.57      1735\n",
      "weighted avg       0.58      0.57      0.57      1735\n",
      "\n",
      "cnt_vector+MultinomialNB()\n",
      "              precision    recall  f1-score   support\n",
      "\n",
      "           F       0.80      0.84      0.82       924\n",
      "           T       0.80      0.76      0.78       811\n",
      "\n",
      "    accuracy                           0.80      1735\n",
      "   macro avg       0.80      0.80      0.80      1735\n",
      "weighted avg       0.80      0.80      0.80      1735\n",
      "\n",
      "cnt_vector+LinearSVC(dual=False)\n",
      "              precision    recall  f1-score   support\n",
      "\n",
      "           F       0.79      0.81      0.80       924\n",
      "           T       0.78      0.75      0.76       811\n",
      "\n",
      "    accuracy                           0.78      1735\n",
      "   macro avg       0.78      0.78      0.78      1735\n",
      "weighted avg       0.78      0.78      0.78      1735\n",
      "\n",
      "cnt_vector+LogisticRegression(max_iter=1000, solver='liblinear')\n",
      "              precision    recall  f1-score   support\n",
      "\n",
      "           F       0.81      0.83      0.82       924\n",
      "           T       0.80      0.78      0.79       811\n",
      "\n",
      "    accuracy                           0.81      1735\n",
      "   macro avg       0.81      0.81      0.81      1735\n",
      "weighted avg       0.81      0.81      0.81      1735\n",
      "\n",
      "tfidf_vector+RandomForestClassifier()\n",
      "              precision    recall  f1-score   support\n",
      "\n",
      "           F       0.69      0.90      0.78       906\n",
      "           T       0.84      0.56      0.67       829\n",
      "\n",
      "    accuracy                           0.74      1735\n",
      "   macro avg       0.77      0.73      0.73      1735\n",
      "weighted avg       0.76      0.74      0.73      1735\n",
      "\n",
      "tfidf_vector+GaussianNB()\n",
      "              precision    recall  f1-score   support\n",
      "\n",
      "           F       0.58      0.59      0.58       906\n",
      "           T       0.54      0.54      0.54       829\n",
      "\n",
      "    accuracy                           0.56      1735\n",
      "   macro avg       0.56      0.56      0.56      1735\n",
      "weighted avg       0.56      0.56      0.56      1735\n",
      "\n",
      "tfidf_vector+MultinomialNB()\n",
      "              precision    recall  f1-score   support\n",
      "\n",
      "           F       0.54      0.99      0.70       906\n",
      "           T       0.92      0.08      0.15       829\n",
      "\n",
      "    accuracy                           0.56      1735\n",
      "   macro avg       0.73      0.54      0.43      1735\n",
      "weighted avg       0.72      0.56      0.44      1735\n",
      "\n",
      "tfidf_vector+LinearSVC(dual=False)\n",
      "              precision    recall  f1-score   support\n",
      "\n",
      "           F       0.84      0.86      0.85       906\n",
      "           T       0.85      0.82      0.83       829\n",
      "\n",
      "    accuracy                           0.84      1735\n",
      "   macro avg       0.84      0.84      0.84      1735\n",
      "weighted avg       0.84      0.84      0.84      1735\n",
      "\n",
      "tfidf_vector+LogisticRegression(max_iter=1000, solver='liblinear')\n",
      "              precision    recall  f1-score   support\n",
      "\n",
      "           F       0.84      0.88      0.86       906\n",
      "           T       0.86      0.82      0.84       829\n",
      "\n",
      "    accuracy                           0.85      1735\n",
      "   macro avg       0.85      0.85      0.85      1735\n",
      "weighted avg       0.85      0.85      0.85      1735\n",
      "\n"
     ]
    }
   ],
   "source": [
    "TF_acc={}\n",
    "for i in vectors:\n",
    "    X_train,X_test,y_train,y_test = train_test_split(vectors[i],df[\"target_TF\"],test_size=0.2)\n",
    "    for classifier in classifiers:\n",
    "        if str(classifier) == \"GaussianNB()\":\n",
    "            X_train=X_train.todense()\n",
    "            X_test=X_test.todense()\n",
    "        model = classifier.fit(X_train, y_train)\n",
    "        predictions=model.predict(X_test)\n",
    "        acc=metrics.accuracy_score(y_test,predictions)\n",
    "        classification=metrics.classification_report(y_test,predictions,zero_division=0)\n",
    "        model_name = i +\"+\"+str(classifier)\n",
    "        model_name_clean = re.sub(r'\\([^)]*\\)', '', model_name) #delete text within parentheses\n",
    "        TF_acc[model_name_clean]=acc\n",
    "        print(model_name)\n",
    "        print(classification)\n",
    "        \n"
   ]
  },
  {
   "cell_type": "markdown",
   "metadata": {},
   "source": [
    "**PJ category:**"
   ]
  },
  {
   "cell_type": "code",
   "execution_count": 244,
   "metadata": {},
   "outputs": [
    {
     "name": "stdout",
     "output_type": "stream",
     "text": [
      "cnt_vector+RandomForestClassifier()\n",
      "              precision    recall  f1-score   support\n",
      "\n",
      "           J       0.81      0.14      0.24       696\n",
      "           P       0.63      0.98      0.77      1039\n",
      "\n",
      "    accuracy                           0.64      1735\n",
      "   macro avg       0.72      0.56      0.50      1735\n",
      "weighted avg       0.70      0.64      0.55      1735\n",
      "\n",
      "cnt_vector+GaussianNB()\n",
      "              precision    recall  f1-score   support\n",
      "\n",
      "           J       0.47      0.42      0.44       696\n",
      "           P       0.64      0.68      0.66      1039\n",
      "\n",
      "    accuracy                           0.58      1735\n",
      "   macro avg       0.55      0.55      0.55      1735\n",
      "weighted avg       0.57      0.58      0.57      1735\n",
      "\n",
      "cnt_vector+MultinomialNB()\n",
      "              precision    recall  f1-score   support\n",
      "\n",
      "           J       0.70      0.62      0.65       696\n",
      "           P       0.76      0.82      0.79      1039\n",
      "\n",
      "    accuracy                           0.74      1735\n",
      "   macro avg       0.73      0.72      0.72      1735\n",
      "weighted avg       0.74      0.74      0.74      1735\n",
      "\n",
      "cnt_vector+LinearSVC(dual=False)\n",
      "              precision    recall  f1-score   support\n",
      "\n",
      "           J       0.63      0.66      0.64       696\n",
      "           P       0.76      0.74      0.75      1039\n",
      "\n",
      "    accuracy                           0.71      1735\n",
      "   macro avg       0.70      0.70      0.70      1735\n",
      "weighted avg       0.71      0.71      0.71      1735\n",
      "\n",
      "cnt_vector+LogisticRegression(max_iter=1000, solver='liblinear')\n",
      "              precision    recall  f1-score   support\n",
      "\n",
      "           J       0.66      0.67      0.66       696\n",
      "           P       0.78      0.77      0.77      1039\n",
      "\n",
      "    accuracy                           0.73      1735\n",
      "   macro avg       0.72      0.72      0.72      1735\n",
      "weighted avg       0.73      0.73      0.73      1735\n",
      "\n",
      "tfidf_vector+RandomForestClassifier()\n",
      "              precision    recall  f1-score   support\n",
      "\n",
      "           J       0.78      0.16      0.26       702\n",
      "           P       0.63      0.97      0.76      1033\n",
      "\n",
      "    accuracy                           0.64      1735\n",
      "   macro avg       0.70      0.56      0.51      1735\n",
      "weighted avg       0.69      0.64      0.56      1735\n",
      "\n",
      "tfidf_vector+GaussianNB()\n",
      "              precision    recall  f1-score   support\n",
      "\n",
      "           J       0.46      0.39      0.43       702\n",
      "           P       0.63      0.69      0.65      1033\n",
      "\n",
      "    accuracy                           0.57      1735\n",
      "   macro avg       0.54      0.54      0.54      1735\n",
      "weighted avg       0.56      0.57      0.56      1735\n",
      "\n",
      "tfidf_vector+MultinomialNB()\n",
      "              precision    recall  f1-score   support\n",
      "\n",
      "           J       0.00      0.00      0.00       702\n",
      "           P       0.60      1.00      0.75      1033\n",
      "\n",
      "    accuracy                           0.60      1735\n",
      "   macro avg       0.30      0.50      0.37      1735\n",
      "weighted avg       0.35      0.60      0.44      1735\n",
      "\n",
      "tfidf_vector+LinearSVC(dual=False)\n",
      "              precision    recall  f1-score   support\n",
      "\n",
      "           J       0.74      0.63      0.68       702\n",
      "           P       0.77      0.85      0.81      1033\n",
      "\n",
      "    accuracy                           0.76      1735\n",
      "   macro avg       0.76      0.74      0.75      1735\n",
      "weighted avg       0.76      0.76      0.76      1735\n",
      "\n",
      "tfidf_vector+LogisticRegression(max_iter=1000, solver='liblinear')\n",
      "              precision    recall  f1-score   support\n",
      "\n",
      "           J       0.82      0.58      0.68       702\n",
      "           P       0.76      0.91      0.83      1033\n",
      "\n",
      "    accuracy                           0.78      1735\n",
      "   macro avg       0.79      0.75      0.76      1735\n",
      "weighted avg       0.79      0.78      0.77      1735\n",
      "\n"
     ]
    }
   ],
   "source": [
    "PJ_acc={}\n",
    "for i in vectors:\n",
    "    X_train,X_test,y_train,y_test = train_test_split(vectors[i],df[\"target_PJ\"],test_size=0.2)\n",
    "    for classifier in classifiers:\n",
    "        if str(classifier) == \"GaussianNB()\":\n",
    "            X_train=X_train.todense()\n",
    "            X_test=X_test.todense()\n",
    "        model = classifier.fit(X_train, y_train)\n",
    "        predictions=model.predict(X_test)\n",
    "        acc=metrics.accuracy_score(y_test,predictions)\n",
    "        classification=metrics.classification_report(y_test,predictions,zero_division=0)\n",
    "        model_name = i +\"+\"+str(classifier)\n",
    "        model_name_clean = re.sub(r'\\([^)]*\\)', '', model_name) #delete text within parentheses\n",
    "        PJ_acc[model_name_clean]=acc\n",
    "        print(model_name)\n",
    "        print(classification)"
   ]
  },
  {
   "cell_type": "markdown",
   "metadata": {},
   "source": [
    "As said before, we have to look at precision for JP category. It seems that tfidf_vector() + LinearSVC() fit better the category"
   ]
  },
  {
   "cell_type": "code",
   "execution_count": 299,
   "metadata": {},
   "outputs": [
    {
     "name": "stdout",
     "output_type": "stream",
     "text": [
      "cnt_vector+RandomForestClassifier\n"
     ]
    }
   ],
   "source": [
    "print(list(EI_f1_scores.keys())[0])"
   ]
  },
  {
   "cell_type": "markdown",
   "metadata": {},
   "source": [
    "## **Conclusion**"
   ]
  },
  {
   "cell_type": "markdown",
   "metadata": {},
   "source": [
    "We will compare the differents models for each category.\n",
    "As seen before, for the categories E/I and N/S we are interesting in f1_score results. For T/F and P/J, we are focus on accuracy."
   ]
  },
  {
   "cell_type": "code",
   "execution_count": 308,
   "metadata": {},
   "outputs": [
    {
     "data": {
      "text/plain": [
       "Text(0.5, 1.0, \"models' accuracies for P/J category\")"
      ]
     },
     "execution_count": 308,
     "metadata": {},
     "output_type": "execute_result"
    },
    {
     "data": {
      "image/png": "[encoded data removed]",
      "text/plain": [
       "<Figure size 1080x1080 with 4 Axes>"
      ]
     },
     "metadata": {
      "needs_background": "light"
     },
     "output_type": "display_data"
    }
   ],
   "source": [
    "fig,ax = plt.subplots(2,2,figsize=(15,15))\n",
    "fig.subplots_adjust(hspace=0.75)\n",
    "\n",
    "ax[0, 0].bar(range(len(EI_f1_scores)),list(EI_f1_scores.values()), align='center')\n",
    "ax[0, 0].set_xticks(range(len(EI_f1_scores)))\n",
    "ax[0, 0].set_xticklabels([list(EI_f1_scores.keys())[x] for x in range(len(EI_f1_scores))], rotation=90)\n",
    "ax[0, 0].set_ylabel(\"f1_score\")\n",
    "ax[0, 0].set_title(\"models' f1_scores for E/I category\")\n",
    "\n",
    "ax[0, 1].bar(range(len(NS_f1_scores)), list(NS_f1_scores.values()), align='center')\n",
    "ax[0, 1].set_xticks(range(len(NS_f1_scores)))\n",
    "ax[0, 1].set_xticklabels([list(NS_f1_scores.keys())[x] for x in range(len(NS_f1_scores))], rotation=90)\n",
    "ax[0, 1].set_ylabel(\"f1_score\")\n",
    "ax[0, 1].set_title(\"models' f1_scores for N/S category\")\n",
    "\n",
    "ax[1, 0].bar(range(len(TF_acc)), list(TF_acc.values()), align='center')\n",
    "ax[1, 0].set_xticks(range(len(TF_acc)))\n",
    "ax[1, 0].set_xticklabels([list(TF_acc.keys())[x] for x in range(len(TF_acc))], rotation=90)\n",
    "ax[1, 0].set_ylabel(\"accuracy\")\n",
    "ax[1, 0].set_title(\"models' accuracies for F/T category\")\n",
    "\n",
    "ax[1, 1].bar(range(len(PJ_acc)), list(PJ_acc.values()), align='center')\n",
    "ax[1, 1].set_xticks(range(len(PJ_acc)))\n",
    "ax[1, 1].set_xticklabels([list(PJ_acc.keys())[x] for x in range(len(PJ_acc))], rotation=90)\n",
    "ax[1, 1].set_ylabel(\"accuracy\")\n",
    "ax[1, 1].set_title(\"models' accuracies for P/J category\")"
   ]
  },
  {
   "cell_type": "markdown",
   "metadata": {},
   "source": [
    "**As we can see on the bar charts above, tfidf_vector+LinearSVC() is the model which fit well all the categories.**"
   ]
  },
  {
   "cell_type": "code",
   "execution_count": null,
   "metadata": {},
   "outputs": [],
   "source": []
  }
 ],
 "metadata": {
  "kernelspec": {
   "display_name": "Python 3",
   "language": "python",
   "name": "python3"
  },
  "language_info": {
   "codemirror_mode": {
    "name": "ipython",
    "version": 3
   },
   "file_extension": ".py",
   "mimetype": "text/x-python",
   "name": "python",
   "nbconvert_exporter": "python",
   "pygments_lexer": "ipython3",
   "version": "3.7.1"
  }
 },
 "nbformat": 4,
 "nbformat_minor": 4
}
